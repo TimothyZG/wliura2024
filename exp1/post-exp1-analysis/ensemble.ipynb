{
 "cells": [
  {
   "cell_type": "markdown",
   "metadata": {},
   "source": [
    "# Exploring ensembling different sized models on uncertainty measures "
   ]
  },
  {
   "cell_type": "code",
   "execution_count": 1,
   "metadata": {},
   "outputs": [],
   "source": [
    "import pandas as pd\n",
    "import numpy as np\n",
    "from scipy.special import rel_entr\n",
    "from scipy.stats import entropy\n",
    "import matplotlib.pyplot as plt\n",
    "from matplotlib_venn import venn3,venn2"
   ]
  },
  {
   "cell_type": "code",
   "execution_count": 2,
   "metadata": {},
   "outputs": [
    {
     "name": "stdout",
     "output_type": "stream",
     "text": [
      "df18.shape=(10000, 100)\n"
     ]
    },
    {
     "data": {
      "text/html": [
       "<div>\n",
       "<style scoped>\n",
       "    .dataframe tbody tr th:only-of-type {\n",
       "        vertical-align: middle;\n",
       "    }\n",
       "\n",
       "    .dataframe tbody tr th {\n",
       "        vertical-align: top;\n",
       "    }\n",
       "\n",
       "    .dataframe thead th {\n",
       "        text-align: right;\n",
       "    }\n",
       "</style>\n",
       "<table border=\"1\" class=\"dataframe\">\n",
       "  <thead>\n",
       "    <tr style=\"text-align: right;\">\n",
       "      <th></th>\n",
       "      <th>class_0</th>\n",
       "      <th>class_1</th>\n",
       "      <th>class_2</th>\n",
       "      <th>class_3</th>\n",
       "      <th>class_4</th>\n",
       "      <th>class_5</th>\n",
       "      <th>class_6</th>\n",
       "      <th>class_7</th>\n",
       "      <th>class_8</th>\n",
       "      <th>class_9</th>\n",
       "      <th>...</th>\n",
       "      <th>class_90</th>\n",
       "      <th>class_91</th>\n",
       "      <th>class_92</th>\n",
       "      <th>class_93</th>\n",
       "      <th>class_94</th>\n",
       "      <th>class_95</th>\n",
       "      <th>class_96</th>\n",
       "      <th>class_97</th>\n",
       "      <th>class_98</th>\n",
       "      <th>class_99</th>\n",
       "    </tr>\n",
       "  </thead>\n",
       "  <tbody>\n",
       "    <tr>\n",
       "      <th>0</th>\n",
       "      <td>0.000101</td>\n",
       "      <td>0.000075</td>\n",
       "      <td>0.000086</td>\n",
       "      <td>0.00016</td>\n",
       "      <td>0.000048</td>\n",
       "      <td>0.000025</td>\n",
       "      <td>0.000091</td>\n",
       "      <td>0.000074</td>\n",
       "      <td>0.000031</td>\n",
       "      <td>0.000038</td>\n",
       "      <td>...</td>\n",
       "      <td>0.000223</td>\n",
       "      <td>0.000075</td>\n",
       "      <td>0.000021</td>\n",
       "      <td>0.000102</td>\n",
       "      <td>0.000051</td>\n",
       "      <td>0.000022</td>\n",
       "      <td>0.000055</td>\n",
       "      <td>0.000154</td>\n",
       "      <td>0.000064</td>\n",
       "      <td>0.000072</td>\n",
       "    </tr>\n",
       "  </tbody>\n",
       "</table>\n",
       "<p>1 rows × 100 columns</p>\n",
       "</div>"
      ],
      "text/plain": [
       "    class_0   class_1   class_2  class_3   class_4   class_5   class_6  \\\n",
       "0  0.000101  0.000075  0.000086  0.00016  0.000048  0.000025  0.000091   \n",
       "\n",
       "    class_7   class_8   class_9  ...  class_90  class_91  class_92  class_93  \\\n",
       "0  0.000074  0.000031  0.000038  ...  0.000223  0.000075  0.000021  0.000102   \n",
       "\n",
       "   class_94  class_95  class_96  class_97  class_98  class_99  \n",
       "0  0.000051  0.000022  0.000055  0.000154  0.000064  0.000072  \n",
       "\n",
       "[1 rows x 100 columns]"
      ]
     },
     "metadata": {},
     "output_type": "display_data"
    },
    {
     "name": "stdout",
     "output_type": "stream",
     "text": [
      "df101.shape=(10000, 100)\n"
     ]
    },
    {
     "data": {
      "text/html": [
       "<div>\n",
       "<style scoped>\n",
       "    .dataframe tbody tr th:only-of-type {\n",
       "        vertical-align: middle;\n",
       "    }\n",
       "\n",
       "    .dataframe tbody tr th {\n",
       "        vertical-align: top;\n",
       "    }\n",
       "\n",
       "    .dataframe thead th {\n",
       "        text-align: right;\n",
       "    }\n",
       "</style>\n",
       "<table border=\"1\" class=\"dataframe\">\n",
       "  <thead>\n",
       "    <tr style=\"text-align: right;\">\n",
       "      <th></th>\n",
       "      <th>class_0</th>\n",
       "      <th>class_1</th>\n",
       "      <th>class_2</th>\n",
       "      <th>class_3</th>\n",
       "      <th>class_4</th>\n",
       "      <th>class_5</th>\n",
       "      <th>class_6</th>\n",
       "      <th>class_7</th>\n",
       "      <th>class_8</th>\n",
       "      <th>class_9</th>\n",
       "      <th>...</th>\n",
       "      <th>class_90</th>\n",
       "      <th>class_91</th>\n",
       "      <th>class_92</th>\n",
       "      <th>class_93</th>\n",
       "      <th>class_94</th>\n",
       "      <th>class_95</th>\n",
       "      <th>class_96</th>\n",
       "      <th>class_97</th>\n",
       "      <th>class_98</th>\n",
       "      <th>class_99</th>\n",
       "    </tr>\n",
       "  </thead>\n",
       "  <tbody>\n",
       "    <tr>\n",
       "      <th>0</th>\n",
       "      <td>0.002251</td>\n",
       "      <td>0.001926</td>\n",
       "      <td>0.002115</td>\n",
       "      <td>0.001981</td>\n",
       "      <td>0.0047</td>\n",
       "      <td>0.002163</td>\n",
       "      <td>0.00371</td>\n",
       "      <td>0.005516</td>\n",
       "      <td>0.002965</td>\n",
       "      <td>0.004178</td>\n",
       "      <td>...</td>\n",
       "      <td>0.013644</td>\n",
       "      <td>0.001995</td>\n",
       "      <td>0.001647</td>\n",
       "      <td>0.001674</td>\n",
       "      <td>0.001807</td>\n",
       "      <td>0.002392</td>\n",
       "      <td>0.003219</td>\n",
       "      <td>0.002994</td>\n",
       "      <td>0.007412</td>\n",
       "      <td>0.002566</td>\n",
       "    </tr>\n",
       "  </tbody>\n",
       "</table>\n",
       "<p>1 rows × 100 columns</p>\n",
       "</div>"
      ],
      "text/plain": [
       "    class_0   class_1   class_2   class_3  class_4   class_5  class_6  \\\n",
       "0  0.002251  0.001926  0.002115  0.001981   0.0047  0.002163  0.00371   \n",
       "\n",
       "    class_7   class_8   class_9  ...  class_90  class_91  class_92  class_93  \\\n",
       "0  0.005516  0.002965  0.004178  ...  0.013644  0.001995  0.001647  0.001674   \n",
       "\n",
       "   class_94  class_95  class_96  class_97  class_98  class_99  \n",
       "0  0.001807  0.002392  0.003219  0.002994  0.007412  0.002566  \n",
       "\n",
       "[1 rows x 100 columns]"
      ]
     },
     "metadata": {},
     "output_type": "display_data"
    },
    {
     "name": "stdout",
     "output_type": "stream",
     "text": [
      "pred.shape=(10000, 3)\n"
     ]
    },
    {
     "data": {
      "text/html": [
       "<div>\n",
       "<style scoped>\n",
       "    .dataframe tbody tr th:only-of-type {\n",
       "        vertical-align: middle;\n",
       "    }\n",
       "\n",
       "    .dataframe tbody tr th {\n",
       "        vertical-align: top;\n",
       "    }\n",
       "\n",
       "    .dataframe thead th {\n",
       "        text-align: right;\n",
       "    }\n",
       "</style>\n",
       "<table border=\"1\" class=\"dataframe\">\n",
       "  <thead>\n",
       "    <tr style=\"text-align: right;\">\n",
       "      <th></th>\n",
       "      <th>pred18</th>\n",
       "      <th>pred101</th>\n",
       "      <th>target</th>\n",
       "    </tr>\n",
       "  </thead>\n",
       "  <tbody>\n",
       "    <tr>\n",
       "      <th>0</th>\n",
       "      <td>68</td>\n",
       "      <td>68</td>\n",
       "      <td>49</td>\n",
       "    </tr>\n",
       "  </tbody>\n",
       "</table>\n",
       "</div>"
      ],
      "text/plain": [
       "   pred18  pred101  target\n",
       "0      68       68      49"
      ]
     },
     "metadata": {},
     "output_type": "display_data"
    }
   ],
   "source": [
    "# Load data:\n",
    "df18 = pd.read_csv(\"../exp1-inf/predictions_res18.csv\")\n",
    "df101 = pd.read_csv(\"../exp1-inf/predictions_res101.csv\")\n",
    "label = pd.read_csv(\"../exp1-inf/labels.csv\")\n",
    "num_class = 257\n",
    "pred = pd.DataFrame({\n",
    "    \"pred18\": np.argmax(df18,axis=1),\n",
    "    \"pred101\": np.argmax(df101,axis=1),\n",
    "    \"target\": label['target']\n",
    "})\n",
    "print(f\"{df18.shape=}\")\n",
    "display(df18.head(1))\n",
    "print(f\"{df101.shape=}\")\n",
    "display(df101.head(1))\n",
    "print(f\"{pred.shape=}\")\n",
    "display(pred.head(1))"
   ]
  },
  {
   "cell_type": "code",
   "execution_count": 3,
   "metadata": {},
   "outputs": [
    {
     "name": "stdout",
     "output_type": "stream",
     "text": [
      "pred18 has accuracy 0.4668\n",
      "pred101 has accuracy 0.5112\n"
     ]
    }
   ],
   "source": [
    "def eval_pred(pred):\n",
    "    for col in pred.columns.drop(\"target\"):\n",
    "        acc = (pred[col]==pred[\"target\"]).mean()\n",
    "        print(f\"{col} has accuracy {acc}\")\n",
    "eval_pred(pred)"
   ]
  },
  {
   "cell_type": "code",
   "execution_count": 4,
   "metadata": {},
   "outputs": [
    {
     "data": {
      "image/png": "[encoded data removed]",
      "text/plain": [
       "<Figure size 500x500 with 1 Axes>"
      ]
     },
     "metadata": {},
     "output_type": "display_data"
    }
   ],
   "source": [
    "def venn(pred):\n",
    "    # Accuracy Venn Diagram:\n",
    "    df = pred\n",
    "    ls = []\n",
    "    total_indices = set(df.index)\n",
    "    incorrect_all = total_indices\n",
    "    col_names=[]\n",
    "    for col in df.columns.drop(\"target\"):\n",
    "        col_names.append(col)\n",
    "        cor_set = set(df[df[col] == df['target']].index)\n",
    "        ls.append(cor_set)\n",
    "        incorrect_all = incorrect_all - cor_set\n",
    "    plt.figure(figsize=(5,5))\n",
    "    if len(col_names)==2:\n",
    "        venn2(ls, col_names)\n",
    "    elif len(col_names)==3:\n",
    "        venn3(ls, col_names)\n",
    "    else:\n",
    "        raise Exception(\"Matplotlib Venn only supports 2 or 3 sets, please subset to 3 predictions columns and target.\")\n",
    "    plt.title('Correct Predictions by Model')\n",
    "    plt.text(0.5, -0.5, f'None correct: {len(incorrect_all)}', fontsize=12)\n",
    "venn(pred)"
   ]
  },
  {
   "cell_type": "markdown",
   "metadata": {},
   "source": [
    "# Approach 1: Classical Voting\n",
    "**Hard Voting (Plurality Voting)**: Selecting the class that receives the most votes as the final prediction. The problem with hard voting here is that we only have two models.  \n",
    "**Soft Voting (Weighted Voting with uniform weights)**: Calculates the average probability of each class and then declares the winner having the highest weighted probability.  \n",
    "**Weighted Voting (with validation accuracy as weights)**: Calculates weighted probability of each class based on validation accuracy, and then selecting the class with highest weighted probability"
   ]
  },
  {
   "cell_type": "code",
   "execution_count": 5,
   "metadata": {},
   "outputs": [
    {
     "data": {
      "text/html": [
       "<div>\n",
       "<style scoped>\n",
       "    .dataframe tbody tr th:only-of-type {\n",
       "        vertical-align: middle;\n",
       "    }\n",
       "\n",
       "    .dataframe tbody tr th {\n",
       "        vertical-align: top;\n",
       "    }\n",
       "\n",
       "    .dataframe thead th {\n",
       "        text-align: right;\n",
       "    }\n",
       "</style>\n",
       "<table border=\"1\" class=\"dataframe\">\n",
       "  <thead>\n",
       "    <tr style=\"text-align: right;\">\n",
       "      <th></th>\n",
       "      <th>pred18</th>\n",
       "      <th>pred101</th>\n",
       "      <th>target</th>\n",
       "      <th>soft_vote</th>\n",
       "    </tr>\n",
       "  </thead>\n",
       "  <tbody>\n",
       "    <tr>\n",
       "      <th>0</th>\n",
       "      <td>68</td>\n",
       "      <td>68</td>\n",
       "      <td>49</td>\n",
       "      <td>68</td>\n",
       "    </tr>\n",
       "  </tbody>\n",
       "</table>\n",
       "</div>"
      ],
      "text/plain": [
       "   pred18  pred101  target  soft_vote\n",
       "0      68       68      49         68"
      ]
     },
     "metadata": {},
     "output_type": "display_data"
    },
    {
     "name": "stdout",
     "output_type": "stream",
     "text": [
      "pred18 has accuracy 0.4668\n",
      "pred101 has accuracy 0.5112\n",
      "soft_vote has accuracy 0.5473\n"
     ]
    }
   ],
   "source": [
    "# Soft Voting\n",
    "def soft_vote(pred1, pred2):\n",
    "    sum_pred = pred1+pred2\n",
    "    return np.argmax(sum_pred,axis=1)\n",
    "pred[\"soft_vote\"] = soft_vote(df18, df101)\n",
    "display(pred.head(1))\n",
    "eval_pred(pred)"
   ]
  },
  {
   "cell_type": "code",
   "execution_count": 6,
   "metadata": {},
   "outputs": [
    {
     "data": {
      "text/html": [
       "<div>\n",
       "<style scoped>\n",
       "    .dataframe tbody tr th:only-of-type {\n",
       "        vertical-align: middle;\n",
       "    }\n",
       "\n",
       "    .dataframe tbody tr th {\n",
       "        vertical-align: top;\n",
       "    }\n",
       "\n",
       "    .dataframe thead th {\n",
       "        text-align: right;\n",
       "    }\n",
       "</style>\n",
       "<table border=\"1\" class=\"dataframe\">\n",
       "  <thead>\n",
       "    <tr style=\"text-align: right;\">\n",
       "      <th></th>\n",
       "      <th>pred18</th>\n",
       "      <th>pred101</th>\n",
       "      <th>target</th>\n",
       "      <th>soft_vote</th>\n",
       "      <th>weighted_vote</th>\n",
       "    </tr>\n",
       "  </thead>\n",
       "  <tbody>\n",
       "    <tr>\n",
       "      <th>0</th>\n",
       "      <td>68</td>\n",
       "      <td>68</td>\n",
       "      <td>49</td>\n",
       "      <td>68</td>\n",
       "      <td>68</td>\n",
       "    </tr>\n",
       "  </tbody>\n",
       "</table>\n",
       "</div>"
      ],
      "text/plain": [
       "   pred18  pred101  target  soft_vote  weighted_vote\n",
       "0      68       68      49         68             68"
      ]
     },
     "metadata": {},
     "output_type": "display_data"
    },
    {
     "name": "stdout",
     "output_type": "stream",
     "text": [
      "pred18 has accuracy 0.4668\n",
      "pred101 has accuracy 0.5112\n",
      "soft_vote has accuracy 0.5473\n",
      "weighted_vote has accuracy 0.5448\n"
     ]
    }
   ],
   "source": [
    "# Soft Voting\n",
    "def weighted_vote(pred1, pred2, weight1, weight2):\n",
    "    weighted_pred = np.multiply(weight1,pred1)+np.multiply(weight2,pred2)\n",
    "    return np.argmax(weighted_pred,axis=1)\n",
    "pred[\"weighted_vote\"] = weighted_vote(df18, df101, 0.75, 0.87)\n",
    "display(pred.head(1))\n",
    "eval_pred(pred)"
   ]
  },
  {
   "cell_type": "markdown",
   "metadata": {},
   "source": [
    "# Approach 2: Uncertainty Voting\n",
    "We propose an alternative aggregation strategy based on KL Divergence, Entropy, and Cross Entropy among the two models."
   ]
  },
  {
   "cell_type": "code",
   "execution_count": 7,
   "metadata": {},
   "outputs": [
    {
     "data": {
      "text/html": [
       "<div>\n",
       "<style scoped>\n",
       "    .dataframe tbody tr th:only-of-type {\n",
       "        vertical-align: middle;\n",
       "    }\n",
       "\n",
       "    .dataframe tbody tr th {\n",
       "        vertical-align: top;\n",
       "    }\n",
       "\n",
       "    .dataframe thead th {\n",
       "        text-align: right;\n",
       "    }\n",
       "</style>\n",
       "<table border=\"1\" class=\"dataframe\">\n",
       "  <thead>\n",
       "    <tr style=\"text-align: right;\">\n",
       "      <th></th>\n",
       "      <th>pred18</th>\n",
       "      <th>pred101</th>\n",
       "      <th>target</th>\n",
       "      <th>soft_vote</th>\n",
       "      <th>weighted_vote</th>\n",
       "      <th>kl_18_101</th>\n",
       "      <th>kl_101_18</th>\n",
       "      <th>ent_18</th>\n",
       "      <th>ent_101</th>\n",
       "      <th>ce_18_101</th>\n",
       "      <th>ce_101_18</th>\n",
       "    </tr>\n",
       "  </thead>\n",
       "  <tbody>\n",
       "    <tr>\n",
       "      <th>0</th>\n",
       "      <td>68</td>\n",
       "      <td>68</td>\n",
       "      <td>49</td>\n",
       "      <td>68</td>\n",
       "      <td>68</td>\n",
       "      <td>0.957978</td>\n",
       "      <td>3.051359</td>\n",
       "      <td>0.104553</td>\n",
       "      <td>2.887301</td>\n",
       "      <td>-0.042930</td>\n",
       "      <td>-0.042930</td>\n",
       "    </tr>\n",
       "    <tr>\n",
       "      <th>1</th>\n",
       "      <td>9</td>\n",
       "      <td>88</td>\n",
       "      <td>33</td>\n",
       "      <td>9</td>\n",
       "      <td>9</td>\n",
       "      <td>1.063623</td>\n",
       "      <td>1.602684</td>\n",
       "      <td>2.192025</td>\n",
       "      <td>2.496735</td>\n",
       "      <td>0.061682</td>\n",
       "      <td>0.061682</td>\n",
       "    </tr>\n",
       "    <tr>\n",
       "      <th>2</th>\n",
       "      <td>72</td>\n",
       "      <td>4</td>\n",
       "      <td>72</td>\n",
       "      <td>4</td>\n",
       "      <td>4</td>\n",
       "      <td>3.883613</td>\n",
       "      <td>5.411646</td>\n",
       "      <td>1.826138</td>\n",
       "      <td>1.861975</td>\n",
       "      <td>1.356766</td>\n",
       "      <td>1.356766</td>\n",
       "    </tr>\n",
       "    <tr>\n",
       "      <th>3</th>\n",
       "      <td>21</td>\n",
       "      <td>51</td>\n",
       "      <td>51</td>\n",
       "      <td>51</td>\n",
       "      <td>51</td>\n",
       "      <td>4.474733</td>\n",
       "      <td>3.389089</td>\n",
       "      <td>2.579214</td>\n",
       "      <td>0.873690</td>\n",
       "      <td>1.498447</td>\n",
       "      <td>1.498447</td>\n",
       "    </tr>\n",
       "    <tr>\n",
       "      <th>4</th>\n",
       "      <td>71</td>\n",
       "      <td>71</td>\n",
       "      <td>71</td>\n",
       "      <td>71</td>\n",
       "      <td>71</td>\n",
       "      <td>0.990844</td>\n",
       "      <td>0.342718</td>\n",
       "      <td>1.042726</td>\n",
       "      <td>0.066595</td>\n",
       "      <td>-0.009198</td>\n",
       "      <td>-0.009198</td>\n",
       "    </tr>\n",
       "  </tbody>\n",
       "</table>\n",
       "</div>"
      ],
      "text/plain": [
       "   pred18  pred101  target  soft_vote  weighted_vote  kl_18_101  kl_101_18  \\\n",
       "0      68       68      49         68             68   0.957978   3.051359   \n",
       "1       9       88      33          9              9   1.063623   1.602684   \n",
       "2      72        4      72          4              4   3.883613   5.411646   \n",
       "3      21       51      51         51             51   4.474733   3.389089   \n",
       "4      71       71      71         71             71   0.990844   0.342718   \n",
       "\n",
       "     ent_18   ent_101  ce_18_101  ce_101_18  \n",
       "0  0.104553  2.887301  -0.042930  -0.042930  \n",
       "1  2.192025  2.496735   0.061682   0.061682  \n",
       "2  1.826138  1.861975   1.356766   1.356766  \n",
       "3  2.579214  0.873690   1.498447   1.498447  \n",
       "4  1.042726  0.066595  -0.009198  -0.009198  "
      ]
     },
     "execution_count": 7,
     "metadata": {},
     "output_type": "execute_result"
    }
   ],
   "source": [
    "# Generate 2 KL Columns, 2 Entropy Columns, 2 Cross-Entropy Columns\n",
    "unc_pred = pred.copy()\n",
    "def calc_kl(P,Q,numclass):\n",
    "    return rel_entr(P.iloc[:,0:numclass],Q.iloc[:,0:numclass]).sum(1)\n",
    "unc_pred[\"kl_18_101\"] = calc_kl(df18,df101,num_class)\n",
    "unc_pred[\"kl_101_18\"] = calc_kl(df101,df18,num_class)\n",
    "def calc_entropy(P,numclass):\n",
    "    return entropy(P.iloc[:,0:numclass],axis=1)\n",
    "unc_pred[\"ent_18\"] = calc_entropy(df18,num_class)\n",
    "unc_pred[\"ent_101\"] = calc_entropy(df101,num_class)\n",
    "def calc_cross_ent(P,Q,numclass):\n",
    "    return np.log(entropy(P.iloc[:,0:numclass],Q.iloc[:,0:numclass],axis=1))\n",
    "unc_pred[\"ce_18_101\"] = calc_cross_ent(df18,df101,num_class)\n",
    "unc_pred[\"ce_101_18\"] = calc_cross_ent(df18,df101,num_class)\n",
    "unc_pred.head()"
   ]
  },
  {
   "cell_type": "markdown",
   "metadata": {},
   "source": [
    "**Method 1** We select the prediction of the model with lower entropy (i.e. lower uncertainty) This is a flavor of hard voting, as in it is not going to predict anything that isn't already a top prediction of either model."
   ]
  },
  {
   "cell_type": "code",
   "execution_count": 8,
   "metadata": {},
   "outputs": [
    {
     "name": "stdout",
     "output_type": "stream",
     "text": [
      "pred18 has accuracy 0.4668\n",
      "pred101 has accuracy 0.5112\n",
      "soft_vote has accuracy 0.5473\n",
      "weighted_vote has accuracy 0.5448\n",
      "min_entropy_pred has accuracy 0.5413\n"
     ]
    },
    {
     "name": "stderr",
     "output_type": "stream",
     "text": [
      "/Users/timothyzhou/anaconda3/envs/cpsc340/lib/python3.11/site-packages/matplotlib_venn/_venn3.py:117: UserWarning: Bad circle positioning\n",
      "  warnings.warn(\"Bad circle positioning\")\n"
     ]
    },
    {
     "data": {
      "image/png": "[encoded data removed]",
      "text/plain": [
       "<Figure size 500x500 with 1 Axes>"
      ]
     },
     "metadata": {},
     "output_type": "display_data"
    }
   ],
   "source": [
    "pred[\"min_entropy_pred\"] = np.where(unc_pred[\"ent_18\"]>unc_pred[\"ent_101\"],pred[\"pred101\"],pred[\"pred18\"])\n",
    "pred.head(1)\n",
    "eval_pred(pred)\n",
    "venn(pred[[\"pred18\",\"pred101\",\"min_entropy_pred\",\"target\"]])"
   ]
  },
  {
   "cell_type": "markdown",
   "metadata": {},
   "source": [
    "**Method 2** We combine the predictions of models by assigning the other model's entropy as weights, i.e a model receives more weights when the other models is uncertain."
   ]
  },
  {
   "cell_type": "code",
   "execution_count": 9,
   "metadata": {},
   "outputs": [
    {
     "data": {
      "text/html": [
       "<div>\n",
       "<style scoped>\n",
       "    .dataframe tbody tr th:only-of-type {\n",
       "        vertical-align: middle;\n",
       "    }\n",
       "\n",
       "    .dataframe tbody tr th {\n",
       "        vertical-align: top;\n",
       "    }\n",
       "\n",
       "    .dataframe thead th {\n",
       "        text-align: right;\n",
       "    }\n",
       "</style>\n",
       "<table border=\"1\" class=\"dataframe\">\n",
       "  <thead>\n",
       "    <tr style=\"text-align: right;\">\n",
       "      <th></th>\n",
       "      <th>pred18</th>\n",
       "      <th>pred101</th>\n",
       "      <th>target</th>\n",
       "      <th>soft_vote</th>\n",
       "      <th>weighted_vote</th>\n",
       "      <th>min_entropy_pred</th>\n",
       "      <th>unc_weighted_vote</th>\n",
       "    </tr>\n",
       "  </thead>\n",
       "  <tbody>\n",
       "    <tr>\n",
       "      <th>0</th>\n",
       "      <td>68</td>\n",
       "      <td>68</td>\n",
       "      <td>49</td>\n",
       "      <td>68</td>\n",
       "      <td>68</td>\n",
       "      <td>68</td>\n",
       "      <td>68</td>\n",
       "    </tr>\n",
       "  </tbody>\n",
       "</table>\n",
       "</div>"
      ],
      "text/plain": [
       "   pred18  pred101  target  soft_vote  weighted_vote  min_entropy_pred  \\\n",
       "0      68       68      49         68             68                68   \n",
       "\n",
       "   unc_weighted_vote  \n",
       "0                 68  "
      ]
     },
     "metadata": {},
     "output_type": "display_data"
    },
    {
     "name": "stdout",
     "output_type": "stream",
     "text": [
      "pred18 has accuracy 0.4668\n",
      "pred101 has accuracy 0.5112\n",
      "soft_vote has accuracy 0.5473\n",
      "weighted_vote has accuracy 0.5448\n",
      "min_entropy_pred has accuracy 0.5413\n",
      "unc_weighted_vote has accuracy 0.5455\n"
     ]
    }
   ],
   "source": [
    "def vec_weighted_vote(pred1, pred2, weightvec1, weightvec2):\n",
    "    weighted_pred = pred1.mul(weightvec1, axis=0) + pred2.mul(weightvec2, axis=0)\n",
    "    return np.argmax(weighted_pred,axis=1)\n",
    "\n",
    "pred[\"unc_weighted_vote\"] = vec_weighted_vote(df18, df101, unc_pred[\"ent_101\"], unc_pred[\"ent_18\"])\n",
    "\n",
    "display(pred.head(1))\n",
    "eval_pred(pred)"
   ]
  },
  {
   "cell_type": "code",
   "execution_count": 10,
   "metadata": {},
   "outputs": [
    {
     "data": {
      "text/html": [
       "<div>\n",
       "<style scoped>\n",
       "    .dataframe tbody tr th:only-of-type {\n",
       "        vertical-align: middle;\n",
       "    }\n",
       "\n",
       "    .dataframe tbody tr th {\n",
       "        vertical-align: top;\n",
       "    }\n",
       "\n",
       "    .dataframe thead th {\n",
       "        text-align: right;\n",
       "    }\n",
       "</style>\n",
       "<table border=\"1\" class=\"dataframe\">\n",
       "  <thead>\n",
       "    <tr style=\"text-align: right;\">\n",
       "      <th></th>\n",
       "      <th>pred18</th>\n",
       "      <th>pred101</th>\n",
       "      <th>target</th>\n",
       "      <th>soft_vote</th>\n",
       "      <th>weighted_vote</th>\n",
       "      <th>min_entropy_pred</th>\n",
       "      <th>unc_weighted_vote</th>\n",
       "      <th>kl_weighted_vote</th>\n",
       "    </tr>\n",
       "  </thead>\n",
       "  <tbody>\n",
       "    <tr>\n",
       "      <th>0</th>\n",
       "      <td>68</td>\n",
       "      <td>68</td>\n",
       "      <td>49</td>\n",
       "      <td>68</td>\n",
       "      <td>68</td>\n",
       "      <td>68</td>\n",
       "      <td>68</td>\n",
       "      <td>68</td>\n",
       "    </tr>\n",
       "  </tbody>\n",
       "</table>\n",
       "</div>"
      ],
      "text/plain": [
       "   pred18  pred101  target  soft_vote  weighted_vote  min_entropy_pred  \\\n",
       "0      68       68      49         68             68                68   \n",
       "\n",
       "   unc_weighted_vote  kl_weighted_vote  \n",
       "0                 68                68  "
      ]
     },
     "metadata": {},
     "output_type": "display_data"
    },
    {
     "name": "stdout",
     "output_type": "stream",
     "text": [
      "pred18 has accuracy 0.4668\n",
      "pred101 has accuracy 0.5112\n",
      "soft_vote has accuracy 0.5473\n",
      "weighted_vote has accuracy 0.5448\n",
      "min_entropy_pred has accuracy 0.5413\n",
      "unc_weighted_vote has accuracy 0.5455\n",
      "kl_weighted_vote has accuracy 0.5553\n"
     ]
    }
   ],
   "source": [
    "pred[\"kl_weighted_vote\"] = vec_weighted_vote(df18, df101, unc_pred[\"kl_101_18\"], unc_pred[\"kl_18_101\"])\n",
    "display(pred.head(1))\n",
    "eval_pred(pred)"
   ]
  },
  {
   "cell_type": "code",
   "execution_count": null,
   "metadata": {},
   "outputs": [],
   "source": []
  }
 ],
 "metadata": {
  "kernelspec": {
   "display_name": "cpsc340",
   "language": "python",
   "name": "python3"
  },
  "language_info": {
   "codemirror_mode": {
    "name": "ipython",
    "version": 3
   },
   "file_extension": ".py",
   "mimetype": "text/x-python",
   "name": "python",
   "nbconvert_exporter": "python",
   "pygments_lexer": "ipython3",
   "version": "3.11.5"
  }
 },
 "nbformat": 4,
 "nbformat_minor": 2
}
