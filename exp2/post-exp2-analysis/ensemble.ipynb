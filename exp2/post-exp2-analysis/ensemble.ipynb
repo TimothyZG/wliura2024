{
 "cells": [
  {
   "cell_type": "markdown",
   "metadata": {},
   "source": [
    "# Exploring ensembling different sized models on uncertainty measures "
   ]
  },
  {
   "cell_type": "code",
   "execution_count": 32,
   "metadata": {},
   "outputs": [],
   "source": [
    "import pandas as pd\n",
    "import numpy as np\n",
    "from scipy.special import rel_entr\n",
    "from scipy.stats import entropy\n",
    "import matplotlib.pyplot as plt\n",
    "from matplotlib_venn import venn3,venn2"
   ]
  },
  {
   "cell_type": "code",
   "execution_count": 33,
   "metadata": {},
   "outputs": [
    {
     "name": "stdout",
     "output_type": "stream",
     "text": [
      "df18.shape=(6122, 257)\n"
     ]
    },
    {
     "data": {
      "text/html": [
       "<div>\n",
       "<style scoped>\n",
       "    .dataframe tbody tr th:only-of-type {\n",
       "        vertical-align: middle;\n",
       "    }\n",
       "\n",
       "    .dataframe tbody tr th {\n",
       "        vertical-align: top;\n",
       "    }\n",
       "\n",
       "    .dataframe thead th {\n",
       "        text-align: right;\n",
       "    }\n",
       "</style>\n",
       "<table border=\"1\" class=\"dataframe\">\n",
       "  <thead>\n",
       "    <tr style=\"text-align: right;\">\n",
       "      <th></th>\n",
       "      <th>class_0</th>\n",
       "      <th>class_1</th>\n",
       "      <th>class_2</th>\n",
       "      <th>class_3</th>\n",
       "      <th>class_4</th>\n",
       "      <th>class_5</th>\n",
       "      <th>class_6</th>\n",
       "      <th>class_7</th>\n",
       "      <th>class_8</th>\n",
       "      <th>class_9</th>\n",
       "      <th>...</th>\n",
       "      <th>class_247</th>\n",
       "      <th>class_248</th>\n",
       "      <th>class_249</th>\n",
       "      <th>class_250</th>\n",
       "      <th>class_251</th>\n",
       "      <th>class_252</th>\n",
       "      <th>class_253</th>\n",
       "      <th>class_254</th>\n",
       "      <th>class_255</th>\n",
       "      <th>class_256</th>\n",
       "    </tr>\n",
       "  </thead>\n",
       "  <tbody>\n",
       "    <tr>\n",
       "      <th>0</th>\n",
       "      <td>0.002548</td>\n",
       "      <td>0.003643</td>\n",
       "      <td>0.002167</td>\n",
       "      <td>0.006165</td>\n",
       "      <td>0.00484</td>\n",
       "      <td>0.00836</td>\n",
       "      <td>0.002376</td>\n",
       "      <td>0.010965</td>\n",
       "      <td>0.002399</td>\n",
       "      <td>0.008175</td>\n",
       "      <td>...</td>\n",
       "      <td>0.001317</td>\n",
       "      <td>0.002514</td>\n",
       "      <td>0.006182</td>\n",
       "      <td>0.004792</td>\n",
       "      <td>0.004116</td>\n",
       "      <td>0.004633</td>\n",
       "      <td>0.002666</td>\n",
       "      <td>0.001376</td>\n",
       "      <td>0.006288</td>\n",
       "      <td>0.002184</td>\n",
       "    </tr>\n",
       "  </tbody>\n",
       "</table>\n",
       "<p>1 rows × 257 columns</p>\n",
       "</div>"
      ],
      "text/plain": [
       "    class_0   class_1   class_2   class_3  class_4  class_5   class_6  \\\n",
       "0  0.002548  0.003643  0.002167  0.006165  0.00484  0.00836  0.002376   \n",
       "\n",
       "    class_7   class_8   class_9  ...  class_247  class_248  class_249  \\\n",
       "0  0.010965  0.002399  0.008175  ...   0.001317   0.002514   0.006182   \n",
       "\n",
       "   class_250  class_251  class_252  class_253  class_254  class_255  class_256  \n",
       "0   0.004792   0.004116   0.004633   0.002666   0.001376   0.006288   0.002184  \n",
       "\n",
       "[1 rows x 257 columns]"
      ]
     },
     "metadata": {},
     "output_type": "display_data"
    },
    {
     "name": "stdout",
     "output_type": "stream",
     "text": [
      "df101.shape=(6122, 257)\n"
     ]
    },
    {
     "data": {
      "text/html": [
       "<div>\n",
       "<style scoped>\n",
       "    .dataframe tbody tr th:only-of-type {\n",
       "        vertical-align: middle;\n",
       "    }\n",
       "\n",
       "    .dataframe tbody tr th {\n",
       "        vertical-align: top;\n",
       "    }\n",
       "\n",
       "    .dataframe thead th {\n",
       "        text-align: right;\n",
       "    }\n",
       "</style>\n",
       "<table border=\"1\" class=\"dataframe\">\n",
       "  <thead>\n",
       "    <tr style=\"text-align: right;\">\n",
       "      <th></th>\n",
       "      <th>class_0</th>\n",
       "      <th>class_1</th>\n",
       "      <th>class_2</th>\n",
       "      <th>class_3</th>\n",
       "      <th>class_4</th>\n",
       "      <th>class_5</th>\n",
       "      <th>class_6</th>\n",
       "      <th>class_7</th>\n",
       "      <th>class_8</th>\n",
       "      <th>class_9</th>\n",
       "      <th>...</th>\n",
       "      <th>class_247</th>\n",
       "      <th>class_248</th>\n",
       "      <th>class_249</th>\n",
       "      <th>class_250</th>\n",
       "      <th>class_251</th>\n",
       "      <th>class_252</th>\n",
       "      <th>class_253</th>\n",
       "      <th>class_254</th>\n",
       "      <th>class_255</th>\n",
       "      <th>class_256</th>\n",
       "    </tr>\n",
       "  </thead>\n",
       "  <tbody>\n",
       "    <tr>\n",
       "      <th>0</th>\n",
       "      <td>0.000012</td>\n",
       "      <td>0.000211</td>\n",
       "      <td>0.00002</td>\n",
       "      <td>0.000049</td>\n",
       "      <td>0.00007</td>\n",
       "      <td>0.000075</td>\n",
       "      <td>0.000084</td>\n",
       "      <td>0.000053</td>\n",
       "      <td>0.00004</td>\n",
       "      <td>0.000068</td>\n",
       "      <td>...</td>\n",
       "      <td>0.000061</td>\n",
       "      <td>0.000053</td>\n",
       "      <td>0.000035</td>\n",
       "      <td>0.000057</td>\n",
       "      <td>0.000019</td>\n",
       "      <td>0.000117</td>\n",
       "      <td>0.000091</td>\n",
       "      <td>0.000042</td>\n",
       "      <td>0.000036</td>\n",
       "      <td>0.000246</td>\n",
       "    </tr>\n",
       "  </tbody>\n",
       "</table>\n",
       "<p>1 rows × 257 columns</p>\n",
       "</div>"
      ],
      "text/plain": [
       "    class_0   class_1  class_2   class_3  class_4   class_5   class_6  \\\n",
       "0  0.000012  0.000211  0.00002  0.000049  0.00007  0.000075  0.000084   \n",
       "\n",
       "    class_7  class_8   class_9  ...  class_247  class_248  class_249  \\\n",
       "0  0.000053  0.00004  0.000068  ...   0.000061   0.000053   0.000035   \n",
       "\n",
       "   class_250  class_251  class_252  class_253  class_254  class_255  class_256  \n",
       "0   0.000057   0.000019   0.000117   0.000091   0.000042   0.000036   0.000246  \n",
       "\n",
       "[1 rows x 257 columns]"
      ]
     },
     "metadata": {},
     "output_type": "display_data"
    },
    {
     "name": "stdout",
     "output_type": "stream",
     "text": [
      "pred.shape=(6122, 3)\n"
     ]
    },
    {
     "data": {
      "text/html": [
       "<div>\n",
       "<style scoped>\n",
       "    .dataframe tbody tr th:only-of-type {\n",
       "        vertical-align: middle;\n",
       "    }\n",
       "\n",
       "    .dataframe tbody tr th {\n",
       "        vertical-align: top;\n",
       "    }\n",
       "\n",
       "    .dataframe thead th {\n",
       "        text-align: right;\n",
       "    }\n",
       "</style>\n",
       "<table border=\"1\" class=\"dataframe\">\n",
       "  <thead>\n",
       "    <tr style=\"text-align: right;\">\n",
       "      <th></th>\n",
       "      <th>pred18</th>\n",
       "      <th>pred101</th>\n",
       "      <th>target</th>\n",
       "    </tr>\n",
       "  </thead>\n",
       "  <tbody>\n",
       "    <tr>\n",
       "      <th>0</th>\n",
       "      <td>24</td>\n",
       "      <td>24</td>\n",
       "      <td>24</td>\n",
       "    </tr>\n",
       "  </tbody>\n",
       "</table>\n",
       "</div>"
      ],
      "text/plain": [
       "   pred18  pred101  target\n",
       "0      24       24      24"
      ]
     },
     "metadata": {},
     "output_type": "display_data"
    }
   ],
   "source": [
    "# Load data:\n",
    "df18 = pd.read_csv(\"../exp2-inf/predictions_res18_2.csv\")\n",
    "df101 = pd.read_csv(\"../exp2-inf/predictions_res101_2.csv\")\n",
    "label = pd.read_csv(\"../exp2-inf/labels.csv\")\n",
    "num_class = 257\n",
    "pred = pd.DataFrame({\n",
    "    \"pred18\": np.argmax(df18,axis=1),\n",
    "    \"pred101\": np.argmax(df101,axis=1),\n",
    "    \"target\": label['target']\n",
    "})\n",
    "print(f\"{df18.shape=}\")\n",
    "display(df18.head(1))\n",
    "print(f\"{df101.shape=}\")\n",
    "display(df101.head(1))\n",
    "print(f\"{pred.shape=}\")\n",
    "display(pred.head(1))"
   ]
  },
  {
   "cell_type": "code",
   "execution_count": 34,
   "metadata": {},
   "outputs": [
    {
     "name": "stdout",
     "output_type": "stream",
     "text": [
      "pred18 has accuracy 0.7535119242077752\n",
      "pred101 has accuracy 0.8694870957203529\n"
     ]
    }
   ],
   "source": [
    "def eval_pred(pred):\n",
    "    for col in pred.columns.drop(\"target\"):\n",
    "        acc = (pred[col]==pred[\"target\"]).mean()\n",
    "        print(f\"{col} has accuracy {acc}\")\n",
    "eval_pred(pred)"
   ]
  },
  {
   "cell_type": "code",
   "execution_count": 35,
   "metadata": {},
   "outputs": [
    {
     "data": {
      "image/png": "[encoded data removed]",
      "text/plain": [
       "<Figure size 500x500 with 1 Axes>"
      ]
     },
     "metadata": {},
     "output_type": "display_data"
    }
   ],
   "source": [
    "def venn(pred):\n",
    "    # Accuracy Venn Diagram:\n",
    "    df = pred\n",
    "    ls = []\n",
    "    total_indices = set(df.index)\n",
    "    incorrect_all = total_indices\n",
    "    col_names=[]\n",
    "    for col in df.columns.drop(\"target\"):\n",
    "        col_names.append(col)\n",
    "        cor_set = set(df[df[col] == df['target']].index)\n",
    "        ls.append(cor_set)\n",
    "        incorrect_all = incorrect_all - cor_set\n",
    "    plt.figure(figsize=(5,5))\n",
    "    if len(col_names)==2:\n",
    "        venn2(ls, col_names)\n",
    "    elif len(col_names)==3:\n",
    "        venn3(ls, col_names)\n",
    "    else:\n",
    "        raise Exception(\"Matplotlib Venn only supports 2 or 3 sets, please subset to 3 predictions columns and target.\")\n",
    "    plt.title('Correct Predictions by Model')\n",
    "    plt.text(0.5, -0.5, f'None correct: {len(incorrect_all)}', fontsize=12)\n",
    "venn(pred)"
   ]
  },
  {
   "cell_type": "markdown",
   "metadata": {},
   "source": [
    "# Approach 1: Classical Voting\n",
    "**Hard Voting (Plurality Voting)**: Selecting the class that receives the most votes as the final prediction. The problem with hard voting here is that we only have two models.  \n",
    "**Soft Voting (Weighted Voting with uniform weights)**: Calculates the average probability of each class and then declares the winner having the highest weighted probability.  \n",
    "**Weighted Voting (with validation accuracy as weights)**: Calculates weighted probability of each class based on validation accuracy, and then selecting the class with highest weighted probability"
   ]
  },
  {
   "cell_type": "code",
   "execution_count": 36,
   "metadata": {},
   "outputs": [
    {
     "data": {
      "text/html": [
       "<div>\n",
       "<style scoped>\n",
       "    .dataframe tbody tr th:only-of-type {\n",
       "        vertical-align: middle;\n",
       "    }\n",
       "\n",
       "    .dataframe tbody tr th {\n",
       "        vertical-align: top;\n",
       "    }\n",
       "\n",
       "    .dataframe thead th {\n",
       "        text-align: right;\n",
       "    }\n",
       "</style>\n",
       "<table border=\"1\" class=\"dataframe\">\n",
       "  <thead>\n",
       "    <tr style=\"text-align: right;\">\n",
       "      <th></th>\n",
       "      <th>pred18</th>\n",
       "      <th>pred101</th>\n",
       "      <th>target</th>\n",
       "      <th>soft_vote</th>\n",
       "    </tr>\n",
       "  </thead>\n",
       "  <tbody>\n",
       "    <tr>\n",
       "      <th>0</th>\n",
       "      <td>24</td>\n",
       "      <td>24</td>\n",
       "      <td>24</td>\n",
       "      <td>24</td>\n",
       "    </tr>\n",
       "  </tbody>\n",
       "</table>\n",
       "</div>"
      ],
      "text/plain": [
       "   pred18  pred101  target  soft_vote\n",
       "0      24       24      24         24"
      ]
     },
     "metadata": {},
     "output_type": "display_data"
    },
    {
     "name": "stdout",
     "output_type": "stream",
     "text": [
      "pred18 has accuracy 0.7535119242077752\n",
      "pred101 has accuracy 0.8694870957203529\n",
      "soft_vote has accuracy 0.8742241097680497\n"
     ]
    }
   ],
   "source": [
    "# Soft Voting\n",
    "def soft_vote(pred1, pred2):\n",
    "    sum_pred = pred1+pred2\n",
    "    return np.argmax(sum_pred,axis=1)\n",
    "pred[\"soft_vote\"] = soft_vote(df18, df101)\n",
    "display(pred.head(1))\n",
    "eval_pred(pred)"
   ]
  },
  {
   "cell_type": "code",
   "execution_count": 37,
   "metadata": {},
   "outputs": [
    {
     "data": {
      "text/html": [
       "<div>\n",
       "<style scoped>\n",
       "    .dataframe tbody tr th:only-of-type {\n",
       "        vertical-align: middle;\n",
       "    }\n",
       "\n",
       "    .dataframe tbody tr th {\n",
       "        vertical-align: top;\n",
       "    }\n",
       "\n",
       "    .dataframe thead th {\n",
       "        text-align: right;\n",
       "    }\n",
       "</style>\n",
       "<table border=\"1\" class=\"dataframe\">\n",
       "  <thead>\n",
       "    <tr style=\"text-align: right;\">\n",
       "      <th></th>\n",
       "      <th>pred18</th>\n",
       "      <th>pred101</th>\n",
       "      <th>target</th>\n",
       "      <th>soft_vote</th>\n",
       "      <th>weighted_vote</th>\n",
       "    </tr>\n",
       "  </thead>\n",
       "  <tbody>\n",
       "    <tr>\n",
       "      <th>0</th>\n",
       "      <td>24</td>\n",
       "      <td>24</td>\n",
       "      <td>24</td>\n",
       "      <td>24</td>\n",
       "      <td>24</td>\n",
       "    </tr>\n",
       "  </tbody>\n",
       "</table>\n",
       "</div>"
      ],
      "text/plain": [
       "   pred18  pred101  target  soft_vote  weighted_vote\n",
       "0      24       24      24         24             24"
      ]
     },
     "metadata": {},
     "output_type": "display_data"
    },
    {
     "name": "stdout",
     "output_type": "stream",
     "text": [
      "pred18 has accuracy 0.7535119242077752\n",
      "pred101 has accuracy 0.8694870957203529\n",
      "soft_vote has accuracy 0.8742241097680497\n",
      "weighted_vote has accuracy 0.873734073832081\n"
     ]
    }
   ],
   "source": [
    "# Soft Voting\n",
    "def weighted_vote(pred1, pred2, weight1, weight2):\n",
    "    weighted_pred = np.multiply(weight1,pred1)+np.multiply(weight2,pred2)\n",
    "    return np.argmax(weighted_pred,axis=1)\n",
    "pred[\"weighted_vote\"] = weighted_vote(df18, df101, 0.75, 0.87)\n",
    "display(pred.head(1))\n",
    "eval_pred(pred)"
   ]
  },
  {
   "cell_type": "markdown",
   "metadata": {},
   "source": [
    "# Approach 2: Uncertainty Voting\n",
    "We propose an alternative aggregation strategy based on KL Divergence, Entropy, and Cross Entropy among the two models."
   ]
  },
  {
   "cell_type": "code",
   "execution_count": 38,
   "metadata": {},
   "outputs": [
    {
     "data": {
      "text/html": [
       "<div>\n",
       "<style scoped>\n",
       "    .dataframe tbody tr th:only-of-type {\n",
       "        vertical-align: middle;\n",
       "    }\n",
       "\n",
       "    .dataframe tbody tr th {\n",
       "        vertical-align: top;\n",
       "    }\n",
       "\n",
       "    .dataframe thead th {\n",
       "        text-align: right;\n",
       "    }\n",
       "</style>\n",
       "<table border=\"1\" class=\"dataframe\">\n",
       "  <thead>\n",
       "    <tr style=\"text-align: right;\">\n",
       "      <th></th>\n",
       "      <th>pred18</th>\n",
       "      <th>pred101</th>\n",
       "      <th>target</th>\n",
       "      <th>soft_vote</th>\n",
       "      <th>weighted_vote</th>\n",
       "      <th>kl_18_101</th>\n",
       "      <th>kl_101_18</th>\n",
       "      <th>ent_18</th>\n",
       "      <th>ent_101</th>\n",
       "      <th>ce_18_101</th>\n",
       "      <th>ce_101_18</th>\n",
       "    </tr>\n",
       "  </thead>\n",
       "  <tbody>\n",
       "    <tr>\n",
       "      <th>0</th>\n",
       "      <td>24</td>\n",
       "      <td>24</td>\n",
       "      <td>24</td>\n",
       "      <td>24</td>\n",
       "      <td>24</td>\n",
       "      <td>4.241348</td>\n",
       "      <td>3.726702</td>\n",
       "      <td>5.372475</td>\n",
       "      <td>0.360979</td>\n",
       "      <td>1.444881</td>\n",
       "      <td>1.444881</td>\n",
       "    </tr>\n",
       "    <tr>\n",
       "      <th>1</th>\n",
       "      <td>77</td>\n",
       "      <td>77</td>\n",
       "      <td>77</td>\n",
       "      <td>77</td>\n",
       "      <td>77</td>\n",
       "      <td>1.413814</td>\n",
       "      <td>0.609247</td>\n",
       "      <td>3.329311</td>\n",
       "      <td>0.519544</td>\n",
       "      <td>0.346291</td>\n",
       "      <td>0.346291</td>\n",
       "    </tr>\n",
       "    <tr>\n",
       "      <th>2</th>\n",
       "      <td>252</td>\n",
       "      <td>252</td>\n",
       "      <td>252</td>\n",
       "      <td>252</td>\n",
       "      <td>252</td>\n",
       "      <td>0.005484</td>\n",
       "      <td>0.008508</td>\n",
       "      <td>0.077559</td>\n",
       "      <td>0.125732</td>\n",
       "      <td>-5.205966</td>\n",
       "      <td>-5.205966</td>\n",
       "    </tr>\n",
       "    <tr>\n",
       "      <th>3</th>\n",
       "      <td>144</td>\n",
       "      <td>144</td>\n",
       "      <td>144</td>\n",
       "      <td>144</td>\n",
       "      <td>144</td>\n",
       "      <td>0.064559</td>\n",
       "      <td>0.032851</td>\n",
       "      <td>0.580312</td>\n",
       "      <td>0.176968</td>\n",
       "      <td>-2.740175</td>\n",
       "      <td>-2.740175</td>\n",
       "    </tr>\n",
       "    <tr>\n",
       "      <th>4</th>\n",
       "      <td>224</td>\n",
       "      <td>224</td>\n",
       "      <td>224</td>\n",
       "      <td>224</td>\n",
       "      <td>224</td>\n",
       "      <td>1.262630</td>\n",
       "      <td>0.503336</td>\n",
       "      <td>3.061391</td>\n",
       "      <td>0.243561</td>\n",
       "      <td>0.233197</td>\n",
       "      <td>0.233197</td>\n",
       "    </tr>\n",
       "  </tbody>\n",
       "</table>\n",
       "</div>"
      ],
      "text/plain": [
       "   pred18  pred101  target  soft_vote  weighted_vote  kl_18_101  kl_101_18  \\\n",
       "0      24       24      24         24             24   4.241348   3.726702   \n",
       "1      77       77      77         77             77   1.413814   0.609247   \n",
       "2     252      252     252        252            252   0.005484   0.008508   \n",
       "3     144      144     144        144            144   0.064559   0.032851   \n",
       "4     224      224     224        224            224   1.262630   0.503336   \n",
       "\n",
       "     ent_18   ent_101  ce_18_101  ce_101_18  \n",
       "0  5.372475  0.360979   1.444881   1.444881  \n",
       "1  3.329311  0.519544   0.346291   0.346291  \n",
       "2  0.077559  0.125732  -5.205966  -5.205966  \n",
       "3  0.580312  0.176968  -2.740175  -2.740175  \n",
       "4  3.061391  0.243561   0.233197   0.233197  "
      ]
     },
     "execution_count": 38,
     "metadata": {},
     "output_type": "execute_result"
    }
   ],
   "source": [
    "# Generate 2 KL Columns, 2 Entropy Columns, 2 Cross-Entropy Columns\n",
    "unc_pred = pred.copy()\n",
    "def calc_kl(P,Q,numclass):\n",
    "    return rel_entr(P.iloc[:,0:numclass],Q.iloc[:,0:numclass]).sum(1)\n",
    "unc_pred[\"kl_18_101\"] = calc_kl(df18,df101,num_class)\n",
    "unc_pred[\"kl_101_18\"] = calc_kl(df101,df18,num_class)\n",
    "def calc_entropy(P,numclass):\n",
    "    return entropy(P.iloc[:,0:numclass],axis=1)\n",
    "unc_pred[\"ent_18\"] = calc_entropy(df18,num_class)\n",
    "unc_pred[\"ent_101\"] = calc_entropy(df101,num_class)\n",
    "def calc_cross_ent(P,Q,numclass):\n",
    "    return np.log(entropy(P.iloc[:,0:numclass],Q.iloc[:,0:numclass],axis=1))\n",
    "unc_pred[\"ce_18_101\"] = calc_cross_ent(df18,df101,num_class)\n",
    "unc_pred[\"ce_101_18\"] = calc_cross_ent(df18,df101,num_class)\n",
    "unc_pred.head()"
   ]
  },
  {
   "cell_type": "markdown",
   "metadata": {},
   "source": [
    "**Method 1** We select the prediction of the model with lower entropy (i.e. lower uncertainty) This is a flavor of hard voting, as in it is not going to predict anything that isn't already a top prediction of either model."
   ]
  },
  {
   "cell_type": "code",
   "execution_count": 39,
   "metadata": {},
   "outputs": [
    {
     "name": "stdout",
     "output_type": "stream",
     "text": [
      "pred18 has accuracy 0.7535119242077752\n",
      "pred101 has accuracy 0.8694870957203529\n",
      "soft_vote has accuracy 0.8742241097680497\n",
      "weighted_vote has accuracy 0.873734073832081\n",
      "min_entropy_pred has accuracy 0.8707938582162692\n"
     ]
    },
    {
     "name": "stderr",
     "output_type": "stream",
     "text": [
      "/Users/timothyzhou/anaconda3/envs/cpsc340/lib/python3.11/site-packages/matplotlib_venn/_venn3.py:117: UserWarning: Bad circle positioning\n",
      "  warnings.warn(\"Bad circle positioning\")\n"
     ]
    },
    {
     "data": {
      "image/png": "[encoded data removed]",
      "text/plain": [
       "<Figure size 500x500 with 1 Axes>"
      ]
     },
     "metadata": {},
     "output_type": "display_data"
    }
   ],
   "source": [
    "pred[\"min_entropy_pred\"] = np.where(unc_pred[\"ent_18\"]>unc_pred[\"ent_101\"],pred[\"pred101\"],pred[\"pred18\"])\n",
    "pred.head(1)\n",
    "eval_pred(pred)\n",
    "venn(pred[[\"pred18\",\"pred101\",\"min_entropy_pred\",\"target\"]])"
   ]
  },
  {
   "cell_type": "markdown",
   "metadata": {},
   "source": [
    "**Method 2** We combine the predictions of models by assigning the other model's entropy as weights, i.e a model receives more weights when the other models is uncertain."
   ]
  },
  {
   "cell_type": "code",
   "execution_count": 40,
   "metadata": {},
   "outputs": [
    {
     "data": {
      "text/html": [
       "<div>\n",
       "<style scoped>\n",
       "    .dataframe tbody tr th:only-of-type {\n",
       "        vertical-align: middle;\n",
       "    }\n",
       "\n",
       "    .dataframe tbody tr th {\n",
       "        vertical-align: top;\n",
       "    }\n",
       "\n",
       "    .dataframe thead th {\n",
       "        text-align: right;\n",
       "    }\n",
       "</style>\n",
       "<table border=\"1\" class=\"dataframe\">\n",
       "  <thead>\n",
       "    <tr style=\"text-align: right;\">\n",
       "      <th></th>\n",
       "      <th>pred18</th>\n",
       "      <th>pred101</th>\n",
       "      <th>target</th>\n",
       "      <th>soft_vote</th>\n",
       "      <th>weighted_vote</th>\n",
       "      <th>min_entropy_pred</th>\n",
       "      <th>unc_weighted_vote</th>\n",
       "    </tr>\n",
       "  </thead>\n",
       "  <tbody>\n",
       "    <tr>\n",
       "      <th>0</th>\n",
       "      <td>24</td>\n",
       "      <td>24</td>\n",
       "      <td>24</td>\n",
       "      <td>24</td>\n",
       "      <td>24</td>\n",
       "      <td>24</td>\n",
       "      <td>24</td>\n",
       "    </tr>\n",
       "  </tbody>\n",
       "</table>\n",
       "</div>"
      ],
      "text/plain": [
       "   pred18  pred101  target  soft_vote  weighted_vote  min_entropy_pred  \\\n",
       "0      24       24      24         24             24                24   \n",
       "\n",
       "   unc_weighted_vote  \n",
       "0                 24  "
      ]
     },
     "metadata": {},
     "output_type": "display_data"
    },
    {
     "name": "stdout",
     "output_type": "stream",
     "text": [
      "pred18 has accuracy 0.7535119242077752\n",
      "pred101 has accuracy 0.8694870957203529\n",
      "soft_vote has accuracy 0.8742241097680497\n",
      "weighted_vote has accuracy 0.873734073832081\n",
      "min_entropy_pred has accuracy 0.8707938582162692\n",
      "unc_weighted_vote has accuracy 0.8727540019601437\n"
     ]
    }
   ],
   "source": [
    "def vec_weighted_vote(pred1, pred2, weightvec1, weightvec2):\n",
    "    weighted_pred = pred1.mul(weightvec1, axis=0) + pred2.mul(weightvec2, axis=0)\n",
    "    return np.argmax(weighted_pred,axis=1)\n",
    "\n",
    "pred[\"unc_weighted_vote\"] = vec_weighted_vote(df18, df101, unc_pred[\"ent_101\"], unc_pred[\"ent_18\"])\n",
    "\n",
    "display(pred.head(1))\n",
    "eval_pred(pred)"
   ]
  },
  {
   "cell_type": "code",
   "execution_count": 41,
   "metadata": {},
   "outputs": [
    {
     "data": {
      "text/html": [
       "<div>\n",
       "<style scoped>\n",
       "    .dataframe tbody tr th:only-of-type {\n",
       "        vertical-align: middle;\n",
       "    }\n",
       "\n",
       "    .dataframe tbody tr th {\n",
       "        vertical-align: top;\n",
       "    }\n",
       "\n",
       "    .dataframe thead th {\n",
       "        text-align: right;\n",
       "    }\n",
       "</style>\n",
       "<table border=\"1\" class=\"dataframe\">\n",
       "  <thead>\n",
       "    <tr style=\"text-align: right;\">\n",
       "      <th></th>\n",
       "      <th>pred18</th>\n",
       "      <th>pred101</th>\n",
       "      <th>target</th>\n",
       "      <th>soft_vote</th>\n",
       "      <th>weighted_vote</th>\n",
       "      <th>min_entropy_pred</th>\n",
       "      <th>unc_weighted_vote</th>\n",
       "      <th>kl_weighted_vote</th>\n",
       "    </tr>\n",
       "  </thead>\n",
       "  <tbody>\n",
       "    <tr>\n",
       "      <th>0</th>\n",
       "      <td>24</td>\n",
       "      <td>24</td>\n",
       "      <td>24</td>\n",
       "      <td>24</td>\n",
       "      <td>24</td>\n",
       "      <td>24</td>\n",
       "      <td>24</td>\n",
       "      <td>24</td>\n",
       "    </tr>\n",
       "  </tbody>\n",
       "</table>\n",
       "</div>"
      ],
      "text/plain": [
       "   pred18  pred101  target  soft_vote  weighted_vote  min_entropy_pred  \\\n",
       "0      24       24      24         24             24                24   \n",
       "\n",
       "   unc_weighted_vote  kl_weighted_vote  \n",
       "0                 24                24  "
      ]
     },
     "metadata": {},
     "output_type": "display_data"
    },
    {
     "name": "stdout",
     "output_type": "stream",
     "text": [
      "pred18 has accuracy 0.7535119242077752\n",
      "pred101 has accuracy 0.8694870957203529\n",
      "soft_vote has accuracy 0.8742241097680497\n",
      "weighted_vote has accuracy 0.873734073832081\n",
      "min_entropy_pred has accuracy 0.8707938582162692\n",
      "unc_weighted_vote has accuracy 0.8727540019601437\n",
      "kl_weighted_vote has accuracy 0.8753675269519765\n"
     ]
    },
    {
     "name": "stderr",
     "output_type": "stream",
     "text": [
      "/Users/timothyzhou/anaconda3/envs/cpsc340/lib/python3.11/site-packages/matplotlib_venn/_venn3.py:117: UserWarning: Bad circle positioning\n",
      "  warnings.warn(\"Bad circle positioning\")\n"
     ]
    },
    {
     "data": {
      "image/png": "[encoded data removed]",
      "text/plain": [
       "<Figure size 500x500 with 1 Axes>"
      ]
     },
     "metadata": {},
     "output_type": "display_data"
    }
   ],
   "source": [
    "pred[\"kl_weighted_vote\"] = vec_weighted_vote(df18, df101, unc_pred[\"kl_101_18\"], unc_pred[\"kl_18_101\"])\n",
    "display(pred.head(1))\n",
    "eval_pred(pred)\n",
    "venn(pred[[\"target\",\"pred18\",\"pred101\",\"kl_weighted_vote\"]])"
   ]
  },
  {
   "cell_type": "code",
   "execution_count": null,
   "metadata": {},
   "outputs": [],
   "source": []
  }
 ],
 "metadata": {
  "kernelspec": {
   "display_name": "cpsc340",
   "language": "python",
   "name": "python3"
  },
  "language_info": {
   "codemirror_mode": {
    "name": "ipython",
    "version": 3
   },
   "file_extension": ".py",
   "mimetype": "text/x-python",
   "name": "python",
   "nbconvert_exporter": "python",
   "pygments_lexer": "ipython3",
   "version": "3.11.5"
  }
 },
 "nbformat": 4,
 "nbformat_minor": 2
}
