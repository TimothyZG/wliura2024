{
 "cells": [
  {
   "cell_type": "markdown",
   "metadata": {},
   "source": [
    "# Exploring ensembling different sized models on uncertainty measures "
   ]
  },
  {
   "cell_type": "code",
   "execution_count": 108,
   "metadata": {},
   "outputs": [],
   "source": [
    "import pandas as pd\n",
    "import numpy as np\n",
    "from scipy.special import rel_entr, entr\n",
    "import matplotlib.pyplot as plt\n",
    "from matplotlib_venn import venn3,venn2\n",
    "import seaborn as sns"
   ]
  },
  {
   "cell_type": "code",
   "execution_count": 109,
   "metadata": {},
   "outputs": [],
   "source": [
    "# Load data:\n",
    "df18 = pd.read_csv(\"../exp2-inf/predictions_res18_2.csv\")\n",
    "df50 = pd.read_csv(\"../exp2-inf/predictions_res50_2.csv\")\n",
    "df101 = pd.read_csv(\"../exp2-inf/predictions_res101_2.csv\")\n",
    "label = pd.read_csv(\"../exp2-inf/labels.csv\")\n",
    "from sklearn.model_selection import train_test_split\n",
    "val_idx, test_idx = train_test_split(list(range(len(df18))), test_size=0.5, random_state=42)\n",
    "df18 = df18.iloc[test_idx]\n",
    "df50 = df50.iloc[test_idx]\n",
    "df101 = df101.iloc[test_idx]\n",
    "label = label.iloc[test_idx]"
   ]
  },
  {
   "cell_type": "code",
   "execution_count": 110,
   "metadata": {},
   "outputs": [],
   "source": [
    "# Load data after ts:\n",
    "# df18 = pd.read_csv(\"../exp2-inf/predictions_res50_ts.csv\")\n",
    "# df50 = pd.read_csv(\"../exp2-inf/predictions_res50_ts.csv\")\n",
    "# df101 = pd.read_csv(\"../exp2-inf/predictions_res101_ts.csv\")\n",
    "# label = pd.read_csv(\"../exp2-inf/labels_ts.csv\")"
   ]
  },
  {
   "cell_type": "code",
   "execution_count": 111,
   "metadata": {},
   "outputs": [
    {
     "name": "stdout",
     "output_type": "stream",
     "text": [
      "df18.shape=(3061, 257)\n"
     ]
    },
    {
     "data": {
      "text/html": [
       "<div>\n",
       "<style scoped>\n",
       "    .dataframe tbody tr th:only-of-type {\n",
       "        vertical-align: middle;\n",
       "    }\n",
       "\n",
       "    .dataframe tbody tr th {\n",
       "        vertical-align: top;\n",
       "    }\n",
       "\n",
       "    .dataframe thead th {\n",
       "        text-align: right;\n",
       "    }\n",
       "</style>\n",
       "<table border=\"1\" class=\"dataframe\">\n",
       "  <thead>\n",
       "    <tr style=\"text-align: right;\">\n",
       "      <th></th>\n",
       "      <th>class_0</th>\n",
       "      <th>class_1</th>\n",
       "      <th>class_2</th>\n",
       "      <th>class_3</th>\n",
       "      <th>class_4</th>\n",
       "      <th>class_5</th>\n",
       "      <th>class_6</th>\n",
       "      <th>class_7</th>\n",
       "      <th>class_8</th>\n",
       "      <th>class_9</th>\n",
       "      <th>...</th>\n",
       "      <th>class_247</th>\n",
       "      <th>class_248</th>\n",
       "      <th>class_249</th>\n",
       "      <th>class_250</th>\n",
       "      <th>class_251</th>\n",
       "      <th>class_252</th>\n",
       "      <th>class_253</th>\n",
       "      <th>class_254</th>\n",
       "      <th>class_255</th>\n",
       "      <th>class_256</th>\n",
       "    </tr>\n",
       "  </thead>\n",
       "  <tbody>\n",
       "    <tr>\n",
       "      <th>2095</th>\n",
       "      <td>0.000005</td>\n",
       "      <td>0.000013</td>\n",
       "      <td>0.000019</td>\n",
       "      <td>0.000017</td>\n",
       "      <td>0.000021</td>\n",
       "      <td>0.000006</td>\n",
       "      <td>0.000012</td>\n",
       "      <td>0.993818</td>\n",
       "      <td>0.000088</td>\n",
       "      <td>0.000024</td>\n",
       "      <td>...</td>\n",
       "      <td>0.000002</td>\n",
       "      <td>0.000014</td>\n",
       "      <td>0.000027</td>\n",
       "      <td>0.000017</td>\n",
       "      <td>0.000021</td>\n",
       "      <td>0.000025</td>\n",
       "      <td>0.000013</td>\n",
       "      <td>0.00001</td>\n",
       "      <td>0.000031</td>\n",
       "      <td>0.00001</td>\n",
       "    </tr>\n",
       "  </tbody>\n",
       "</table>\n",
       "<p>1 rows × 257 columns</p>\n",
       "</div>"
      ],
      "text/plain": [
       "       class_0   class_1   class_2   class_3   class_4   class_5   class_6  \\\n",
       "2095  0.000005  0.000013  0.000019  0.000017  0.000021  0.000006  0.000012   \n",
       "\n",
       "       class_7   class_8   class_9  ...  class_247  class_248  class_249  \\\n",
       "2095  0.993818  0.000088  0.000024  ...   0.000002   0.000014   0.000027   \n",
       "\n",
       "      class_250  class_251  class_252  class_253  class_254  class_255  \\\n",
       "2095   0.000017   0.000021   0.000025   0.000013    0.00001   0.000031   \n",
       "\n",
       "      class_256  \n",
       "2095    0.00001  \n",
       "\n",
       "[1 rows x 257 columns]"
      ]
     },
     "metadata": {},
     "output_type": "display_data"
    },
    {
     "name": "stdout",
     "output_type": "stream",
     "text": [
      "df101.shape=(3061, 257)\n"
     ]
    },
    {
     "data": {
      "text/html": [
       "<div>\n",
       "<style scoped>\n",
       "    .dataframe tbody tr th:only-of-type {\n",
       "        vertical-align: middle;\n",
       "    }\n",
       "\n",
       "    .dataframe tbody tr th {\n",
       "        vertical-align: top;\n",
       "    }\n",
       "\n",
       "    .dataframe thead th {\n",
       "        text-align: right;\n",
       "    }\n",
       "</style>\n",
       "<table border=\"1\" class=\"dataframe\">\n",
       "  <thead>\n",
       "    <tr style=\"text-align: right;\">\n",
       "      <th></th>\n",
       "      <th>class_0</th>\n",
       "      <th>class_1</th>\n",
       "      <th>class_2</th>\n",
       "      <th>class_3</th>\n",
       "      <th>class_4</th>\n",
       "      <th>class_5</th>\n",
       "      <th>class_6</th>\n",
       "      <th>class_7</th>\n",
       "      <th>class_8</th>\n",
       "      <th>class_9</th>\n",
       "      <th>...</th>\n",
       "      <th>class_247</th>\n",
       "      <th>class_248</th>\n",
       "      <th>class_249</th>\n",
       "      <th>class_250</th>\n",
       "      <th>class_251</th>\n",
       "      <th>class_252</th>\n",
       "      <th>class_253</th>\n",
       "      <th>class_254</th>\n",
       "      <th>class_255</th>\n",
       "      <th>class_256</th>\n",
       "    </tr>\n",
       "  </thead>\n",
       "  <tbody>\n",
       "    <tr>\n",
       "      <th>2095</th>\n",
       "      <td>0.000012</td>\n",
       "      <td>0.000013</td>\n",
       "      <td>0.000018</td>\n",
       "      <td>0.000009</td>\n",
       "      <td>0.000027</td>\n",
       "      <td>0.000012</td>\n",
       "      <td>0.000012</td>\n",
       "      <td>0.996404</td>\n",
       "      <td>0.000008</td>\n",
       "      <td>0.000009</td>\n",
       "      <td>...</td>\n",
       "      <td>0.000013</td>\n",
       "      <td>0.000005</td>\n",
       "      <td>0.000004</td>\n",
       "      <td>0.00001</td>\n",
       "      <td>0.000012</td>\n",
       "      <td>0.000018</td>\n",
       "      <td>0.000009</td>\n",
       "      <td>0.000017</td>\n",
       "      <td>0.00003</td>\n",
       "      <td>0.000013</td>\n",
       "    </tr>\n",
       "  </tbody>\n",
       "</table>\n",
       "<p>1 rows × 257 columns</p>\n",
       "</div>"
      ],
      "text/plain": [
       "       class_0   class_1   class_2   class_3   class_4   class_5   class_6  \\\n",
       "2095  0.000012  0.000013  0.000018  0.000009  0.000027  0.000012  0.000012   \n",
       "\n",
       "       class_7   class_8   class_9  ...  class_247  class_248  class_249  \\\n",
       "2095  0.996404  0.000008  0.000009  ...   0.000013   0.000005   0.000004   \n",
       "\n",
       "      class_250  class_251  class_252  class_253  class_254  class_255  \\\n",
       "2095    0.00001   0.000012   0.000018   0.000009   0.000017    0.00003   \n",
       "\n",
       "      class_256  \n",
       "2095   0.000013  \n",
       "\n",
       "[1 rows x 257 columns]"
      ]
     },
     "metadata": {},
     "output_type": "display_data"
    },
    {
     "name": "stdout",
     "output_type": "stream",
     "text": [
      "pred.shape=(3061, 4)\n"
     ]
    },
    {
     "data": {
      "text/html": [
       "<div>\n",
       "<style scoped>\n",
       "    .dataframe tbody tr th:only-of-type {\n",
       "        vertical-align: middle;\n",
       "    }\n",
       "\n",
       "    .dataframe tbody tr th {\n",
       "        vertical-align: top;\n",
       "    }\n",
       "\n",
       "    .dataframe thead th {\n",
       "        text-align: right;\n",
       "    }\n",
       "</style>\n",
       "<table border=\"1\" class=\"dataframe\">\n",
       "  <thead>\n",
       "    <tr style=\"text-align: right;\">\n",
       "      <th></th>\n",
       "      <th>pred18</th>\n",
       "      <th>pred50</th>\n",
       "      <th>pred101</th>\n",
       "      <th>target</th>\n",
       "    </tr>\n",
       "  </thead>\n",
       "  <tbody>\n",
       "    <tr>\n",
       "      <th>2095</th>\n",
       "      <td>7</td>\n",
       "      <td>7</td>\n",
       "      <td>7</td>\n",
       "      <td>7</td>\n",
       "    </tr>\n",
       "  </tbody>\n",
       "</table>\n",
       "</div>"
      ],
      "text/plain": [
       "      pred18  pred50  pred101  target\n",
       "2095       7       7        7       7"
      ]
     },
     "metadata": {},
     "output_type": "display_data"
    }
   ],
   "source": [
    "num_class = 257\n",
    "pred = pd.DataFrame({\n",
    "    \"pred18\": np.argmax(df18,axis=1),\n",
    "    \"pred50\": np.argmax(df50,axis=1),\n",
    "    \"pred101\": np.argmax(df101,axis=1),\n",
    "    \"target\": label['target']\n",
    "})\n",
    "print(f\"{df18.shape=}\")\n",
    "display(df18.head(1))\n",
    "print(f\"{df101.shape=}\")\n",
    "display(df101.head(1))\n",
    "print(f\"{pred.shape=}\")\n",
    "display(pred.head(1))"
   ]
  },
  {
   "cell_type": "code",
   "execution_count": 112,
   "metadata": {},
   "outputs": [
    {
     "name": "stdout",
     "output_type": "stream",
     "text": [
      "pred18 has accuracy 0.7608624632473048\n",
      "pred50 has accuracy 0.8317543286507677\n",
      "pred101 has accuracy 0.8745508003920287\n"
     ]
    }
   ],
   "source": [
    "def eval_pred(pred):\n",
    "    for col in pred.columns.drop(\"target\"):\n",
    "        acc = (pred[col]==pred[\"target\"]).mean()\n",
    "        print(f\"{col} has accuracy {acc}\")\n",
    "eval_pred(pred)"
   ]
  },
  {
   "cell_type": "code",
   "execution_count": 113,
   "metadata": {},
   "outputs": [],
   "source": [
    "acc18 = 0.7535\n",
    "acc101 = 0.8695"
   ]
  },
  {
   "cell_type": "code",
   "execution_count": 114,
   "metadata": {},
   "outputs": [
    {
     "data": {
      "image/png": "[encoded data removed]",
      "text/plain": [
       "<Figure size 500x500 with 1 Axes>"
      ]
     },
     "metadata": {},
     "output_type": "display_data"
    }
   ],
   "source": [
    "def venn(pred):\n",
    "    # Accuracy Venn Diagram:\n",
    "    df = pred\n",
    "    ls = []\n",
    "    total_indices = set(df.index)\n",
    "    incorrect_all = total_indices\n",
    "    col_names=[]\n",
    "    for col in df.columns.drop(\"target\"):\n",
    "        col_names.append(col)\n",
    "        cor_set = set(df[df[col] == df['target']].index)\n",
    "        ls.append(cor_set)\n",
    "        incorrect_all = incorrect_all - cor_set\n",
    "    plt.figure(figsize=(5,5))\n",
    "    if len(col_names)==2:\n",
    "        venn2(ls, col_names)\n",
    "    elif len(col_names)==3:\n",
    "        venn3(ls, col_names)\n",
    "    else:\n",
    "        raise Exception(\"Matplotlib Venn only supports 2 or 3 sets, please subset to 3 predictions columns and target.\")\n",
    "    plt.title('Correct Predictions by Model')\n",
    "    plt.text(0.5, -0.5, f'None correct: {len(incorrect_all)}', fontsize=12)\n",
    "venn(pred)"
   ]
  },
  {
   "cell_type": "markdown",
   "metadata": {},
   "source": [
    "# Approach 1: Classical Voting\n",
    "**Hard Voting (Plurality Voting)**: Selecting the class that receives the most votes as the final prediction. The problem with hard voting here is that we only have two models.  \n",
    "**Soft Voting (Weighted Voting with uniform weights)**: Calculates the average probability of each class and then declares the winner having the highest weighted probability.  \n",
    "**Weighted Voting (with validation accuracy as weights)**: Calculates weighted probability of each class based on validation accuracy, and then selecting the class with highest weighted probability"
   ]
  },
  {
   "cell_type": "code",
   "execution_count": 115,
   "metadata": {},
   "outputs": [
    {
     "data": {
      "text/html": [
       "<div>\n",
       "<style scoped>\n",
       "    .dataframe tbody tr th:only-of-type {\n",
       "        vertical-align: middle;\n",
       "    }\n",
       "\n",
       "    .dataframe tbody tr th {\n",
       "        vertical-align: top;\n",
       "    }\n",
       "\n",
       "    .dataframe thead th {\n",
       "        text-align: right;\n",
       "    }\n",
       "</style>\n",
       "<table border=\"1\" class=\"dataframe\">\n",
       "  <thead>\n",
       "    <tr style=\"text-align: right;\">\n",
       "      <th></th>\n",
       "      <th>pred18</th>\n",
       "      <th>pred50</th>\n",
       "      <th>pred101</th>\n",
       "      <th>target</th>\n",
       "      <th>soft_vote</th>\n",
       "    </tr>\n",
       "  </thead>\n",
       "  <tbody>\n",
       "    <tr>\n",
       "      <th>2095</th>\n",
       "      <td>7</td>\n",
       "      <td>7</td>\n",
       "      <td>7</td>\n",
       "      <td>7</td>\n",
       "      <td>7</td>\n",
       "    </tr>\n",
       "  </tbody>\n",
       "</table>\n",
       "</div>"
      ],
      "text/plain": [
       "      pred18  pred50  pred101  target  soft_vote\n",
       "2095       7       7        7       7          7"
      ]
     },
     "metadata": {},
     "output_type": "display_data"
    },
    {
     "name": "stdout",
     "output_type": "stream",
     "text": [
      "pred18 has accuracy 0.7608624632473048\n",
      "pred50 has accuracy 0.8317543286507677\n",
      "pred101 has accuracy 0.8745508003920287\n",
      "soft_vote has accuracy 0.8781443972557987\n"
     ]
    }
   ],
   "source": [
    "# Soft Voting\n",
    "def soft_vote(pred1, pred2):\n",
    "    sum_pred = pred1+pred2\n",
    "    return np.argmax(sum_pred,axis=1)\n",
    "pred[\"soft_vote\"] = soft_vote(df18, df101)\n",
    "display(pred.head(1))\n",
    "eval_pred(pred)"
   ]
  },
  {
   "cell_type": "code",
   "execution_count": 116,
   "metadata": {},
   "outputs": [],
   "source": [
    "# pred[\"soft_vote_3\"] = np.argmax(df18+df50+df101,axis=1)\n",
    "# pred[\"hard_vote_3\"] = np.where((pred[\"pred101\"] != pred[\"pred18\"]) & (pred[\"pred18\"] == pred[\"pred50\"]), pred[\"pred50\"], pred[\"pred101\"])\n",
    "# eval_pred(pred)"
   ]
  },
  {
   "cell_type": "code",
   "execution_count": 117,
   "metadata": {},
   "outputs": [
    {
     "data": {
      "text/html": [
       "<div>\n",
       "<style scoped>\n",
       "    .dataframe tbody tr th:only-of-type {\n",
       "        vertical-align: middle;\n",
       "    }\n",
       "\n",
       "    .dataframe tbody tr th {\n",
       "        vertical-align: top;\n",
       "    }\n",
       "\n",
       "    .dataframe thead th {\n",
       "        text-align: right;\n",
       "    }\n",
       "</style>\n",
       "<table border=\"1\" class=\"dataframe\">\n",
       "  <thead>\n",
       "    <tr style=\"text-align: right;\">\n",
       "      <th></th>\n",
       "      <th>pred18</th>\n",
       "      <th>pred50</th>\n",
       "      <th>pred101</th>\n",
       "      <th>target</th>\n",
       "      <th>soft_vote</th>\n",
       "      <th>weighted_vote</th>\n",
       "    </tr>\n",
       "  </thead>\n",
       "  <tbody>\n",
       "    <tr>\n",
       "      <th>2095</th>\n",
       "      <td>7</td>\n",
       "      <td>7</td>\n",
       "      <td>7</td>\n",
       "      <td>7</td>\n",
       "      <td>7</td>\n",
       "      <td>7</td>\n",
       "    </tr>\n",
       "  </tbody>\n",
       "</table>\n",
       "</div>"
      ],
      "text/plain": [
       "      pred18  pred50  pred101  target  soft_vote  weighted_vote\n",
       "2095       7       7        7       7          7              7"
      ]
     },
     "metadata": {},
     "output_type": "display_data"
    },
    {
     "name": "stdout",
     "output_type": "stream",
     "text": [
      "pred18 has accuracy 0.7608624632473048\n",
      "pred50 has accuracy 0.8317543286507677\n",
      "pred101 has accuracy 0.8745508003920287\n",
      "soft_vote has accuracy 0.8781443972557987\n",
      "weighted_vote has accuracy 0.8774910160078406\n"
     ]
    }
   ],
   "source": [
    "# Weighted Soft Voting\n",
    "def weighted_vote(pred1, pred2, weight1, weight2):\n",
    "    weighted_pred = np.multiply(weight1,pred1)+np.multiply(weight2,pred2)\n",
    "    return np.argmax(weighted_pred,axis=1)\n",
    "pred[\"weighted_vote\"] = weighted_vote(df18, df101, 0.75, 0.87)\n",
    "display(pred.head(1))\n",
    "eval_pred(pred)"
   ]
  },
  {
   "cell_type": "code",
   "execution_count": 118,
   "metadata": {},
   "outputs": [],
   "source": [
    "# def weighted_vote3(pred1, pred2, pred3, weight1, weight2, weight3):\n",
    "#     weighted_pred = np.multiply(weight1,pred1)+np.multiply(weight2,pred2)+np.multiply(weight3,pred3)\n",
    "#     return np.argmax(weighted_pred,axis=1)\n",
    "# pred[\"weighted_vote_3\"] = weighted_vote3(df18, df50, df101, 0.75, 0.83, 0.87)\n",
    "# eval_pred(pred)"
   ]
  },
  {
   "cell_type": "markdown",
   "metadata": {},
   "source": [
    "# Approach 2: Uncertainty Voting\n",
    "We propose an alternative aggregation strategy based on KL Divergence, Entropy, and Cross Entropy among the two models."
   ]
  },
  {
   "cell_type": "code",
   "execution_count": 119,
   "metadata": {},
   "outputs": [
    {
     "data": {
      "text/html": [
       "<div>\n",
       "<style scoped>\n",
       "    .dataframe tbody tr th:only-of-type {\n",
       "        vertical-align: middle;\n",
       "    }\n",
       "\n",
       "    .dataframe tbody tr th {\n",
       "        vertical-align: top;\n",
       "    }\n",
       "\n",
       "    .dataframe thead th {\n",
       "        text-align: right;\n",
       "    }\n",
       "</style>\n",
       "<table border=\"1\" class=\"dataframe\">\n",
       "  <thead>\n",
       "    <tr style=\"text-align: right;\">\n",
       "      <th></th>\n",
       "      <th>kl_18_101</th>\n",
       "      <th>kl_101_18</th>\n",
       "      <th>kl_18_50</th>\n",
       "      <th>ent_18</th>\n",
       "      <th>ent_50</th>\n",
       "      <th>ent_101</th>\n",
       "      <th>ce_18_101</th>\n",
       "      <th>ce_101_18</th>\n",
       "    </tr>\n",
       "  </thead>\n",
       "  <tbody>\n",
       "    <tr>\n",
       "      <th>2095</th>\n",
       "      <td>0.005454</td>\n",
       "      <td>0.003145</td>\n",
       "      <td>0.053256</td>\n",
       "      <td>0.066042</td>\n",
       "      <td>0.612255</td>\n",
       "      <td>0.041488</td>\n",
       "      <td>0.071496</td>\n",
       "      <td>0.044633</td>\n",
       "    </tr>\n",
       "    <tr>\n",
       "      <th>3693</th>\n",
       "      <td>2.549316</td>\n",
       "      <td>0.915429</td>\n",
       "      <td>1.791443</td>\n",
       "      <td>3.886930</td>\n",
       "      <td>0.289423</td>\n",
       "      <td>0.110614</td>\n",
       "      <td>6.436246</td>\n",
       "      <td>1.026043</td>\n",
       "    </tr>\n",
       "    <tr>\n",
       "      <th>1803</th>\n",
       "      <td>0.739175</td>\n",
       "      <td>0.261443</td>\n",
       "      <td>0.260292</td>\n",
       "      <td>1.947661</td>\n",
       "      <td>0.750342</td>\n",
       "      <td>0.117020</td>\n",
       "      <td>2.686836</td>\n",
       "      <td>0.378463</td>\n",
       "    </tr>\n",
       "    <tr>\n",
       "      <th>4296</th>\n",
       "      <td>2.473712</td>\n",
       "      <td>2.601213</td>\n",
       "      <td>3.109485</td>\n",
       "      <td>5.076013</td>\n",
       "      <td>0.850889</td>\n",
       "      <td>2.089456</td>\n",
       "      <td>7.549725</td>\n",
       "      <td>4.690669</td>\n",
       "    </tr>\n",
       "    <tr>\n",
       "      <th>2572</th>\n",
       "      <td>0.080690</td>\n",
       "      <td>0.020294</td>\n",
       "      <td>0.035534</td>\n",
       "      <td>0.222456</td>\n",
       "      <td>0.052965</td>\n",
       "      <td>0.009736</td>\n",
       "      <td>0.303146</td>\n",
       "      <td>0.030031</td>\n",
       "    </tr>\n",
       "  </tbody>\n",
       "</table>\n",
       "</div>"
      ],
      "text/plain": [
       "      kl_18_101  kl_101_18  kl_18_50    ent_18    ent_50   ent_101  ce_18_101  \\\n",
       "2095   0.005454   0.003145  0.053256  0.066042  0.612255  0.041488   0.071496   \n",
       "3693   2.549316   0.915429  1.791443  3.886930  0.289423  0.110614   6.436246   \n",
       "1803   0.739175   0.261443  0.260292  1.947661  0.750342  0.117020   2.686836   \n",
       "4296   2.473712   2.601213  3.109485  5.076013  0.850889  2.089456   7.549725   \n",
       "2572   0.080690   0.020294  0.035534  0.222456  0.052965  0.009736   0.303146   \n",
       "\n",
       "      ce_101_18  \n",
       "2095   0.044633  \n",
       "3693   1.026043  \n",
       "1803   0.378463  \n",
       "4296   4.690669  \n",
       "2572   0.030031  "
      ]
     },
     "execution_count": 119,
     "metadata": {},
     "output_type": "execute_result"
    }
   ],
   "source": [
    "from scipy.special import rel_entr, entr\n",
    "\n",
    "def calc_kl(P, Q, numclass):\n",
    "    return np.sum(rel_entr(P.iloc[:, :numclass], Q.iloc[:, :numclass]), axis=1)\n",
    "\n",
    "# Calculate Entropy\n",
    "def calc_entropy(P, numclass):\n",
    "    return np.sum(entr(P.iloc[:, :numclass]), axis=1)\n",
    "\n",
    "# Calculate Cross-Entropy\n",
    "def calc_cross_ent(P, Q, numclass):\n",
    "    return -np.sum(P.iloc[:, :numclass] * np.log(Q.iloc[:, :numclass]), axis=1)\n",
    "\n",
    "unc_pred = pd.DataFrame()\n",
    "unc_pred[\"kl_18_101\"] = calc_kl(df18,df101,num_class)\n",
    "unc_pred[\"kl_101_18\"] = calc_kl(df101,df18,num_class)\n",
    "unc_pred[\"kl_18_50\"] = calc_kl(df18,df50,num_class)\n",
    "unc_pred[\"ent_18\"] = calc_entropy(df18,num_class)\n",
    "unc_pred[\"ent_50\"] = calc_entropy(df50,num_class)\n",
    "unc_pred[\"ent_101\"] = calc_entropy(df101,num_class)\n",
    "unc_pred[\"ce_18_101\"] = calc_cross_ent(df18,df101,num_class)\n",
    "unc_pred[\"ce_101_18\"] = calc_cross_ent(df101,df18,num_class)\n",
    "\n",
    "unc_pred.head()"
   ]
  },
  {
   "cell_type": "markdown",
   "metadata": {},
   "source": [
    "**Method 1** We select the prediction of the model with lower entropy (i.e. lower uncertainty) This is a flavor of hard voting, as in it is not going to predict anything that isn't already a top prediction of either model."
   ]
  },
  {
   "cell_type": "code",
   "execution_count": 120,
   "metadata": {},
   "outputs": [
    {
     "name": "stdout",
     "output_type": "stream",
     "text": [
      "pred18 has accuracy 0.7608624632473048\n",
      "pred50 has accuracy 0.8317543286507677\n",
      "pred101 has accuracy 0.8745508003920287\n",
      "soft_vote has accuracy 0.8781443972557987\n",
      "weighted_vote has accuracy 0.8774910160078406\n",
      "min_entropy_pred has accuracy 0.8752041816399869\n"
     ]
    },
    {
     "name": "stderr",
     "output_type": "stream",
     "text": [
      "/Users/timothyzhou/anaconda3/envs/cpsc340/lib/python3.11/site-packages/matplotlib_venn/_venn3.py:117: UserWarning: Bad circle positioning\n",
      "  warnings.warn(\"Bad circle positioning\")\n"
     ]
    },
    {
     "data": {
      "image/png": "[encoded data removed]",
      "text/plain": [
       "<Figure size 500x500 with 1 Axes>"
      ]
     },
     "metadata": {},
     "output_type": "display_data"
    }
   ],
   "source": [
    "pred[\"min_entropy_pred\"] = np.where(unc_pred[\"ent_18\"]>unc_pred[\"ent_101\"],pred[\"pred101\"],pred[\"pred18\"])\n",
    "pred.head(1)\n",
    "eval_pred(pred)\n",
    "venn(pred[[\"pred18\",\"pred101\",\"min_entropy_pred\",\"target\"]])"
   ]
  },
  {
   "cell_type": "markdown",
   "metadata": {},
   "source": [
    "**Method 2** We combine the predictions of models by assigning the other model's entropy as weights, i.e a model receives more weights when the other models is uncertain."
   ]
  },
  {
   "cell_type": "code",
   "execution_count": 121,
   "metadata": {},
   "outputs": [
    {
     "data": {
      "text/html": [
       "<div>\n",
       "<style scoped>\n",
       "    .dataframe tbody tr th:only-of-type {\n",
       "        vertical-align: middle;\n",
       "    }\n",
       "\n",
       "    .dataframe tbody tr th {\n",
       "        vertical-align: top;\n",
       "    }\n",
       "\n",
       "    .dataframe thead th {\n",
       "        text-align: right;\n",
       "    }\n",
       "</style>\n",
       "<table border=\"1\" class=\"dataframe\">\n",
       "  <thead>\n",
       "    <tr style=\"text-align: right;\">\n",
       "      <th></th>\n",
       "      <th>pred18</th>\n",
       "      <th>pred50</th>\n",
       "      <th>pred101</th>\n",
       "      <th>target</th>\n",
       "      <th>soft_vote</th>\n",
       "      <th>weighted_vote</th>\n",
       "      <th>min_entropy_pred</th>\n",
       "      <th>unc_weighted_vote</th>\n",
       "    </tr>\n",
       "  </thead>\n",
       "  <tbody>\n",
       "    <tr>\n",
       "      <th>2095</th>\n",
       "      <td>7</td>\n",
       "      <td>7</td>\n",
       "      <td>7</td>\n",
       "      <td>7</td>\n",
       "      <td>7</td>\n",
       "      <td>7</td>\n",
       "      <td>7</td>\n",
       "      <td>7</td>\n",
       "    </tr>\n",
       "  </tbody>\n",
       "</table>\n",
       "</div>"
      ],
      "text/plain": [
       "      pred18  pred50  pred101  target  soft_vote  weighted_vote  \\\n",
       "2095       7       7        7       7          7              7   \n",
       "\n",
       "      min_entropy_pred  unc_weighted_vote  \n",
       "2095                 7                  7  "
      ]
     },
     "metadata": {},
     "output_type": "display_data"
    }
   ],
   "source": [
    "def vec_weighted_vote(pred1, pred2, weightvec1, weightvec2):\n",
    "    weighted_pred = pred1.mul(weightvec1, axis=0) + pred2.mul(weightvec2, axis=0)\n",
    "    return np.argmax(weighted_pred,axis=1)\n",
    "\n",
    "def vec_weighted_vote3(pred1, pred2, pred3, weightvec1, weightvec2, weightvec3):\n",
    "    weighted_pred = pred1.mul(weightvec1, axis=0) + pred2.mul(weightvec2, axis=0) + pred3.mul(weightvec3, axis=0)\n",
    "    return np.argmax(weighted_pred,axis=1)\n",
    "\n",
    "pred[\"unc_weighted_vote\"] = vec_weighted_vote(df18, df101, unc_pred[\"ent_101\"], unc_pred[\"ent_18\"])\n",
    "\n",
    "display(pred.head(1))\n",
    "# eval_pred(pred)"
   ]
  },
  {
   "cell_type": "code",
   "execution_count": 122,
   "metadata": {},
   "outputs": [
    {
     "data": {
      "text/html": [
       "<div>\n",
       "<style scoped>\n",
       "    .dataframe tbody tr th:only-of-type {\n",
       "        vertical-align: middle;\n",
       "    }\n",
       "\n",
       "    .dataframe tbody tr th {\n",
       "        vertical-align: top;\n",
       "    }\n",
       "\n",
       "    .dataframe thead th {\n",
       "        text-align: right;\n",
       "    }\n",
       "</style>\n",
       "<table border=\"1\" class=\"dataframe\">\n",
       "  <thead>\n",
       "    <tr style=\"text-align: right;\">\n",
       "      <th></th>\n",
       "      <th>pred18</th>\n",
       "      <th>pred50</th>\n",
       "      <th>pred101</th>\n",
       "      <th>target</th>\n",
       "      <th>soft_vote</th>\n",
       "      <th>weighted_vote</th>\n",
       "      <th>min_entropy_pred</th>\n",
       "      <th>unc_weighted_vote</th>\n",
       "      <th>kl_weighted_vote</th>\n",
       "    </tr>\n",
       "  </thead>\n",
       "  <tbody>\n",
       "    <tr>\n",
       "      <th>2095</th>\n",
       "      <td>7</td>\n",
       "      <td>7</td>\n",
       "      <td>7</td>\n",
       "      <td>7</td>\n",
       "      <td>7</td>\n",
       "      <td>7</td>\n",
       "      <td>7</td>\n",
       "      <td>7</td>\n",
       "      <td>7</td>\n",
       "    </tr>\n",
       "  </tbody>\n",
       "</table>\n",
       "</div>"
      ],
      "text/plain": [
       "      pred18  pred50  pred101  target  soft_vote  weighted_vote  \\\n",
       "2095       7       7        7       7          7              7   \n",
       "\n",
       "      min_entropy_pred  unc_weighted_vote  kl_weighted_vote  \n",
       "2095                 7                  7                 7  "
      ]
     },
     "metadata": {},
     "output_type": "display_data"
    }
   ],
   "source": [
    "pred[\"kl_weighted_vote\"] = vec_weighted_vote(df18, df101, unc_pred[\"kl_101_18\"], unc_pred[\"kl_18_101\"])\n",
    "display(pred.head(1))\n",
    "# eval_pred(pred)\n",
    "# venn(pred[[\"target\",\"pred18\",\"pred101\",\"kl_weighted_vote\"]])"
   ]
  },
  {
   "cell_type": "code",
   "execution_count": 123,
   "metadata": {},
   "outputs": [],
   "source": [
    "# pred[\"kl_weighted_vote_3\"] = vec_weighted_vote3(df18,df50, df101, unc_pred[\"kl_101_18\"],unc_pred[\"kl_18_50\"], unc_pred[\"kl_18_101\"])\n",
    "# pred[\"ent_weighted_vote_3\"] = vec_weighted_vote3(df18,df50, df101, unc_pred[\"ent_101\"],unc_pred[\"ent_50\"], unc_pred[\"ent_18\"])\n",
    "# eval_pred(pred)"
   ]
  },
  {
   "cell_type": "code",
   "execution_count": 124,
   "metadata": {},
   "outputs": [
    {
     "data": {
      "text/html": [
       "<div>\n",
       "<style scoped>\n",
       "    .dataframe tbody tr th:only-of-type {\n",
       "        vertical-align: middle;\n",
       "    }\n",
       "\n",
       "    .dataframe tbody tr th {\n",
       "        vertical-align: top;\n",
       "    }\n",
       "\n",
       "    .dataframe thead th {\n",
       "        text-align: right;\n",
       "    }\n",
       "</style>\n",
       "<table border=\"1\" class=\"dataframe\">\n",
       "  <thead>\n",
       "    <tr style=\"text-align: right;\">\n",
       "      <th></th>\n",
       "      <th>pred18</th>\n",
       "      <th>pred50</th>\n",
       "      <th>pred101</th>\n",
       "      <th>target</th>\n",
       "      <th>soft_vote</th>\n",
       "      <th>weighted_vote</th>\n",
       "      <th>min_entropy_pred</th>\n",
       "      <th>unc_weighted_vote</th>\n",
       "      <th>kl_weighted_vote</th>\n",
       "      <th>ce_weighted_vote</th>\n",
       "    </tr>\n",
       "  </thead>\n",
       "  <tbody>\n",
       "    <tr>\n",
       "      <th>2095</th>\n",
       "      <td>7</td>\n",
       "      <td>7</td>\n",
       "      <td>7</td>\n",
       "      <td>7</td>\n",
       "      <td>7</td>\n",
       "      <td>7</td>\n",
       "      <td>7</td>\n",
       "      <td>7</td>\n",
       "      <td>7</td>\n",
       "      <td>7</td>\n",
       "    </tr>\n",
       "  </tbody>\n",
       "</table>\n",
       "</div>"
      ],
      "text/plain": [
       "      pred18  pred50  pred101  target  soft_vote  weighted_vote  \\\n",
       "2095       7       7        7       7          7              7   \n",
       "\n",
       "      min_entropy_pred  unc_weighted_vote  kl_weighted_vote  ce_weighted_vote  \n",
       "2095                 7                  7                 7                 7  "
      ]
     },
     "metadata": {},
     "output_type": "display_data"
    }
   ],
   "source": [
    "pred[\"ce_weighted_vote\"] = vec_weighted_vote(df18, df101, unc_pred[\"ce_101_18\"], unc_pred[\"ce_18_101\"])\n",
    "display(pred.head(1))\n",
    "# eval_pred(pred)\n",
    "# venn(pred[[\"target\",\"pred18\",\"pred101\",\"kl_weighted_vote\"]])"
   ]
  },
  {
   "cell_type": "code",
   "execution_count": 125,
   "metadata": {},
   "outputs": [
    {
     "data": {
      "text/html": [
       "<div>\n",
       "<style scoped>\n",
       "    .dataframe tbody tr th:only-of-type {\n",
       "        vertical-align: middle;\n",
       "    }\n",
       "\n",
       "    .dataframe tbody tr th {\n",
       "        vertical-align: top;\n",
       "    }\n",
       "\n",
       "    .dataframe thead th {\n",
       "        text-align: right;\n",
       "    }\n",
       "</style>\n",
       "<table border=\"1\" class=\"dataframe\">\n",
       "  <thead>\n",
       "    <tr style=\"text-align: right;\">\n",
       "      <th></th>\n",
       "      <th>pred18</th>\n",
       "      <th>pred50</th>\n",
       "      <th>pred101</th>\n",
       "      <th>target</th>\n",
       "      <th>soft_vote</th>\n",
       "      <th>weighted_vote</th>\n",
       "      <th>min_entropy_pred</th>\n",
       "      <th>unc_weighted_vote</th>\n",
       "      <th>kl_weighted_vote</th>\n",
       "      <th>ce_weighted_vote</th>\n",
       "      <th>kl_sqr_weighted_vote</th>\n",
       "    </tr>\n",
       "  </thead>\n",
       "  <tbody>\n",
       "    <tr>\n",
       "      <th>2095</th>\n",
       "      <td>7</td>\n",
       "      <td>7</td>\n",
       "      <td>7</td>\n",
       "      <td>7</td>\n",
       "      <td>7</td>\n",
       "      <td>7</td>\n",
       "      <td>7</td>\n",
       "      <td>7</td>\n",
       "      <td>7</td>\n",
       "      <td>7</td>\n",
       "      <td>7</td>\n",
       "    </tr>\n",
       "  </tbody>\n",
       "</table>\n",
       "</div>"
      ],
      "text/plain": [
       "      pred18  pred50  pred101  target  soft_vote  weighted_vote  \\\n",
       "2095       7       7        7       7          7              7   \n",
       "\n",
       "      min_entropy_pred  unc_weighted_vote  kl_weighted_vote  ce_weighted_vote  \\\n",
       "2095                 7                  7                 7                 7   \n",
       "\n",
       "      kl_sqr_weighted_vote  \n",
       "2095                     7  "
      ]
     },
     "metadata": {},
     "output_type": "display_data"
    }
   ],
   "source": [
    "pred[\"kl_sqr_weighted_vote\"] = vec_weighted_vote(df18, df101, unc_pred[\"kl_101_18\"]**2, unc_pred[\"kl_18_101\"]**2)\n",
    "display(pred.head(1))\n",
    "# eval_pred(pred)"
   ]
  },
  {
   "cell_type": "code",
   "execution_count": 126,
   "metadata": {},
   "outputs": [
    {
     "data": {
      "text/html": [
       "<div>\n",
       "<style scoped>\n",
       "    .dataframe tbody tr th:only-of-type {\n",
       "        vertical-align: middle;\n",
       "    }\n",
       "\n",
       "    .dataframe tbody tr th {\n",
       "        vertical-align: top;\n",
       "    }\n",
       "\n",
       "    .dataframe thead th {\n",
       "        text-align: right;\n",
       "    }\n",
       "</style>\n",
       "<table border=\"1\" class=\"dataframe\">\n",
       "  <thead>\n",
       "    <tr style=\"text-align: right;\">\n",
       "      <th></th>\n",
       "      <th>pred18</th>\n",
       "      <th>pred50</th>\n",
       "      <th>pred101</th>\n",
       "      <th>target</th>\n",
       "      <th>soft_vote</th>\n",
       "      <th>weighted_vote</th>\n",
       "      <th>min_entropy_pred</th>\n",
       "      <th>unc_weighted_vote</th>\n",
       "      <th>kl_weighted_vote</th>\n",
       "      <th>ce_weighted_vote</th>\n",
       "      <th>kl_sqr_weighted_vote</th>\n",
       "      <th>kl_acc_weighted_vote</th>\n",
       "    </tr>\n",
       "  </thead>\n",
       "  <tbody>\n",
       "    <tr>\n",
       "      <th>2095</th>\n",
       "      <td>7</td>\n",
       "      <td>7</td>\n",
       "      <td>7</td>\n",
       "      <td>7</td>\n",
       "      <td>7</td>\n",
       "      <td>7</td>\n",
       "      <td>7</td>\n",
       "      <td>7</td>\n",
       "      <td>7</td>\n",
       "      <td>7</td>\n",
       "      <td>7</td>\n",
       "      <td>7</td>\n",
       "    </tr>\n",
       "  </tbody>\n",
       "</table>\n",
       "</div>"
      ],
      "text/plain": [
       "      pred18  pred50  pred101  target  soft_vote  weighted_vote  \\\n",
       "2095       7       7        7       7          7              7   \n",
       "\n",
       "      min_entropy_pred  unc_weighted_vote  kl_weighted_vote  ce_weighted_vote  \\\n",
       "2095                 7                  7                 7                 7   \n",
       "\n",
       "      kl_sqr_weighted_vote  kl_acc_weighted_vote  \n",
       "2095                     7                     7  "
      ]
     },
     "metadata": {},
     "output_type": "display_data"
    }
   ],
   "source": [
    "pred[\"kl_acc_weighted_vote\"] = vec_weighted_vote(df18, df101, unc_pred[\"kl_101_18\"]**acc18, unc_pred[\"kl_18_101\"]**acc101)\n",
    "display(pred.head(1))\n",
    "# eval_pred(pred)"
   ]
  },
  {
   "cell_type": "code",
   "execution_count": 127,
   "metadata": {},
   "outputs": [
    {
     "data": {
      "text/html": [
       "<div>\n",
       "<style scoped>\n",
       "    .dataframe tbody tr th:only-of-type {\n",
       "        vertical-align: middle;\n",
       "    }\n",
       "\n",
       "    .dataframe tbody tr th {\n",
       "        vertical-align: top;\n",
       "    }\n",
       "\n",
       "    .dataframe thead th {\n",
       "        text-align: right;\n",
       "    }\n",
       "</style>\n",
       "<table border=\"1\" class=\"dataframe\">\n",
       "  <thead>\n",
       "    <tr style=\"text-align: right;\">\n",
       "      <th></th>\n",
       "      <th>pred18</th>\n",
       "      <th>pred50</th>\n",
       "      <th>pred101</th>\n",
       "      <th>target</th>\n",
       "      <th>soft_vote</th>\n",
       "      <th>weighted_vote</th>\n",
       "      <th>min_entropy_pred</th>\n",
       "      <th>unc_weighted_vote</th>\n",
       "      <th>kl_weighted_vote</th>\n",
       "      <th>ce_weighted_vote</th>\n",
       "      <th>kl_sqr_weighted_vote</th>\n",
       "      <th>kl_acc_weighted_vote</th>\n",
       "      <th>ent_kl_weighted_vote</th>\n",
       "    </tr>\n",
       "  </thead>\n",
       "  <tbody>\n",
       "    <tr>\n",
       "      <th>2095</th>\n",
       "      <td>7</td>\n",
       "      <td>7</td>\n",
       "      <td>7</td>\n",
       "      <td>7</td>\n",
       "      <td>7</td>\n",
       "      <td>7</td>\n",
       "      <td>7</td>\n",
       "      <td>7</td>\n",
       "      <td>7</td>\n",
       "      <td>7</td>\n",
       "      <td>7</td>\n",
       "      <td>7</td>\n",
       "      <td>7</td>\n",
       "    </tr>\n",
       "  </tbody>\n",
       "</table>\n",
       "</div>"
      ],
      "text/plain": [
       "      pred18  pred50  pred101  target  soft_vote  weighted_vote  \\\n",
       "2095       7       7        7       7          7              7   \n",
       "\n",
       "      min_entropy_pred  unc_weighted_vote  kl_weighted_vote  ce_weighted_vote  \\\n",
       "2095                 7                  7                 7                 7   \n",
       "\n",
       "      kl_sqr_weighted_vote  kl_acc_weighted_vote  ent_kl_weighted_vote  \n",
       "2095                     7                     7                     7  "
      ]
     },
     "metadata": {},
     "output_type": "display_data"
    }
   ],
   "source": [
    "pred[\"ent_kl_weighted_vote\"] = vec_weighted_vote(df18, df101, unc_pred[\"ent_101\"]**unc_pred[\"kl_101_18\"], unc_pred[\"ent_18\"]**unc_pred[\"kl_18_101\"])\n",
    "display(pred.head(1))"
   ]
  },
  {
   "cell_type": "code",
   "execution_count": 128,
   "metadata": {},
   "outputs": [
    {
     "data": {
      "text/html": [
       "<div>\n",
       "<style scoped>\n",
       "    .dataframe tbody tr th:only-of-type {\n",
       "        vertical-align: middle;\n",
       "    }\n",
       "\n",
       "    .dataframe tbody tr th {\n",
       "        vertical-align: top;\n",
       "    }\n",
       "\n",
       "    .dataframe thead th {\n",
       "        text-align: right;\n",
       "    }\n",
       "</style>\n",
       "<table border=\"1\" class=\"dataframe\">\n",
       "  <thead>\n",
       "    <tr style=\"text-align: right;\">\n",
       "      <th></th>\n",
       "      <th>pred18</th>\n",
       "      <th>pred50</th>\n",
       "      <th>pred101</th>\n",
       "      <th>target</th>\n",
       "      <th>soft_vote</th>\n",
       "      <th>weighted_vote</th>\n",
       "      <th>min_entropy_pred</th>\n",
       "      <th>unc_weighted_vote</th>\n",
       "      <th>kl_weighted_vote</th>\n",
       "      <th>ce_weighted_vote</th>\n",
       "      <th>kl_sqr_weighted_vote</th>\n",
       "      <th>kl_acc_weighted_vote</th>\n",
       "      <th>ent_kl_weighted_vote</th>\n",
       "      <th>kl_ent_weighted_vote</th>\n",
       "    </tr>\n",
       "  </thead>\n",
       "  <tbody>\n",
       "    <tr>\n",
       "      <th>2095</th>\n",
       "      <td>7</td>\n",
       "      <td>7</td>\n",
       "      <td>7</td>\n",
       "      <td>7</td>\n",
       "      <td>7</td>\n",
       "      <td>7</td>\n",
       "      <td>7</td>\n",
       "      <td>7</td>\n",
       "      <td>7</td>\n",
       "      <td>7</td>\n",
       "      <td>7</td>\n",
       "      <td>7</td>\n",
       "      <td>7</td>\n",
       "      <td>7</td>\n",
       "    </tr>\n",
       "  </tbody>\n",
       "</table>\n",
       "</div>"
      ],
      "text/plain": [
       "      pred18  pred50  pred101  target  soft_vote  weighted_vote  \\\n",
       "2095       7       7        7       7          7              7   \n",
       "\n",
       "      min_entropy_pred  unc_weighted_vote  kl_weighted_vote  ce_weighted_vote  \\\n",
       "2095                 7                  7                 7                 7   \n",
       "\n",
       "      kl_sqr_weighted_vote  kl_acc_weighted_vote  ent_kl_weighted_vote  \\\n",
       "2095                     7                     7                     7   \n",
       "\n",
       "      kl_ent_weighted_vote  \n",
       "2095                     7  "
      ]
     },
     "metadata": {},
     "output_type": "display_data"
    },
    {
     "name": "stdout",
     "output_type": "stream",
     "text": [
      "pred18 has accuracy 0.7608624632473048\n",
      "pred50 has accuracy 0.8317543286507677\n",
      "pred101 has accuracy 0.8745508003920287\n",
      "soft_vote has accuracy 0.8781443972557987\n",
      "weighted_vote has accuracy 0.8774910160078406\n",
      "min_entropy_pred has accuracy 0.8752041816399869\n",
      "unc_weighted_vote has accuracy 0.8774910160078406\n",
      "kl_weighted_vote has accuracy 0.8784710878797779\n",
      "ce_weighted_vote has accuracy 0.8774910160078406\n",
      "kl_sqr_weighted_vote has accuracy 0.878797778503757\n",
      "kl_acc_weighted_vote has accuracy 0.8794511597517152\n",
      "ent_kl_weighted_vote has accuracy 0.878797778503757\n",
      "kl_ent_weighted_vote has accuracy 0.878797778503757\n"
     ]
    }
   ],
   "source": [
    "pred[\"kl_ent_weighted_vote\"] = vec_weighted_vote(df18, df101, unc_pred[\"kl_101_18\"]**unc_pred[\"ent_101\"], unc_pred[\"kl_18_101\"]**unc_pred[\"ent_18\"])\n",
    "display(pred.head(1))\n",
    "eval_pred(pred)"
   ]
  },
  {
   "cell_type": "code",
   "execution_count": 129,
   "metadata": {},
   "outputs": [
    {
     "name": "stderr",
     "output_type": "stream",
     "text": [
      "/Users/timothyzhou/anaconda3/envs/cpsc340/lib/python3.11/site-packages/matplotlib_venn/_venn3.py:117: UserWarning: Bad circle positioning\n",
      "  warnings.warn(\"Bad circle positioning\")\n"
     ]
    },
    {
     "data": {
      "image/png": "[encoded data removed]",
      "text/plain": [
       "<Figure size 500x500 with 1 Axes>"
      ]
     },
     "metadata": {},
     "output_type": "display_data"
    }
   ],
   "source": [
    "venn(pred[[\"target\",\"pred18\",\"pred101\",\"kl_acc_weighted_vote\"]])"
   ]
  },
  {
   "cell_type": "code",
   "execution_count": 130,
   "metadata": {},
   "outputs": [
    {
     "data": {
      "text/html": [
       "<div>\n",
       "<style scoped>\n",
       "    .dataframe tbody tr th:only-of-type {\n",
       "        vertical-align: middle;\n",
       "    }\n",
       "\n",
       "    .dataframe tbody tr th {\n",
       "        vertical-align: top;\n",
       "    }\n",
       "\n",
       "    .dataframe thead th {\n",
       "        text-align: right;\n",
       "    }\n",
       "</style>\n",
       "<table border=\"1\" class=\"dataframe\">\n",
       "  <thead>\n",
       "    <tr style=\"text-align: right;\">\n",
       "      <th></th>\n",
       "      <th>kl_18_101</th>\n",
       "      <th>kl_101_18</th>\n",
       "      <th>kl_18_50</th>\n",
       "      <th>ent_18</th>\n",
       "      <th>ent_50</th>\n",
       "      <th>ent_101</th>\n",
       "      <th>ce_18_101</th>\n",
       "      <th>ce_101_18</th>\n",
       "    </tr>\n",
       "  </thead>\n",
       "  <tbody>\n",
       "    <tr>\n",
       "      <th>2095</th>\n",
       "      <td>0.005454</td>\n",
       "      <td>0.003145</td>\n",
       "      <td>0.053256</td>\n",
       "      <td>0.066042</td>\n",
       "      <td>0.612255</td>\n",
       "      <td>0.041488</td>\n",
       "      <td>0.071496</td>\n",
       "      <td>0.044633</td>\n",
       "    </tr>\n",
       "    <tr>\n",
       "      <th>3693</th>\n",
       "      <td>2.549316</td>\n",
       "      <td>0.915429</td>\n",
       "      <td>1.791443</td>\n",
       "      <td>3.886930</td>\n",
       "      <td>0.289423</td>\n",
       "      <td>0.110614</td>\n",
       "      <td>6.436246</td>\n",
       "      <td>1.026043</td>\n",
       "    </tr>\n",
       "    <tr>\n",
       "      <th>1803</th>\n",
       "      <td>0.739175</td>\n",
       "      <td>0.261443</td>\n",
       "      <td>0.260292</td>\n",
       "      <td>1.947661</td>\n",
       "      <td>0.750342</td>\n",
       "      <td>0.117020</td>\n",
       "      <td>2.686836</td>\n",
       "      <td>0.378463</td>\n",
       "    </tr>\n",
       "    <tr>\n",
       "      <th>4296</th>\n",
       "      <td>2.473712</td>\n",
       "      <td>2.601213</td>\n",
       "      <td>3.109485</td>\n",
       "      <td>5.076013</td>\n",
       "      <td>0.850889</td>\n",
       "      <td>2.089456</td>\n",
       "      <td>7.549725</td>\n",
       "      <td>4.690669</td>\n",
       "    </tr>\n",
       "    <tr>\n",
       "      <th>2572</th>\n",
       "      <td>0.080690</td>\n",
       "      <td>0.020294</td>\n",
       "      <td>0.035534</td>\n",
       "      <td>0.222456</td>\n",
       "      <td>0.052965</td>\n",
       "      <td>0.009736</td>\n",
       "      <td>0.303146</td>\n",
       "      <td>0.030031</td>\n",
       "    </tr>\n",
       "  </tbody>\n",
       "</table>\n",
       "</div>"
      ],
      "text/plain": [
       "      kl_18_101  kl_101_18  kl_18_50    ent_18    ent_50   ent_101  ce_18_101  \\\n",
       "2095   0.005454   0.003145  0.053256  0.066042  0.612255  0.041488   0.071496   \n",
       "3693   2.549316   0.915429  1.791443  3.886930  0.289423  0.110614   6.436246   \n",
       "1803   0.739175   0.261443  0.260292  1.947661  0.750342  0.117020   2.686836   \n",
       "4296   2.473712   2.601213  3.109485  5.076013  0.850889  2.089456   7.549725   \n",
       "2572   0.080690   0.020294  0.035534  0.222456  0.052965  0.009736   0.303146   \n",
       "\n",
       "      ce_101_18  \n",
       "2095   0.044633  \n",
       "3693   1.026043  \n",
       "1803   0.378463  \n",
       "4296   4.690669  \n",
       "2572   0.030031  "
      ]
     },
     "execution_count": 130,
     "metadata": {},
     "output_type": "execute_result"
    }
   ],
   "source": [
    "unc_pred.head()"
   ]
  },
  {
   "cell_type": "code",
   "execution_count": 131,
   "metadata": {},
   "outputs": [],
   "source": [
    "def calc_tpr(targ, pred):\n",
    "    tp = np.sum((targ == 1) & (pred == 1))\n",
    "    fn = np.sum((targ == 1) & (pred == 0))\n",
    "    return tp / (tp + fn)\n",
    "def calc_fpr(targ, pred):\n",
    "    fp = np.sum((targ == 0) & (pred == 1))\n",
    "    tn = np.sum((targ == 0) & (pred == 0))\n",
    "    return fp / (fp + tn)\n",
    "def predict_correctness(ent_ls,threshold):\n",
    "    return np.where(ent_ls>threshold,0,1)"
   ]
  },
  {
   "cell_type": "code",
   "execution_count": 132,
   "metadata": {},
   "outputs": [
    {
     "name": "stdout",
     "output_type": "stream",
     "text": [
      "max_ent=5.4707640691693005||min_ent=0.0012443204783566303\n"
     ]
    },
    {
     "data": {
      "text/html": [
       "<div>\n",
       "<style scoped>\n",
       "    .dataframe tbody tr th:only-of-type {\n",
       "        vertical-align: middle;\n",
       "    }\n",
       "\n",
       "    .dataframe tbody tr th {\n",
       "        vertical-align: top;\n",
       "    }\n",
       "\n",
       "    .dataframe thead th {\n",
       "        text-align: right;\n",
       "    }\n",
       "</style>\n",
       "<table border=\"1\" class=\"dataframe\">\n",
       "  <thead>\n",
       "    <tr style=\"text-align: right;\">\n",
       "      <th></th>\n",
       "      <th>pred18</th>\n",
       "      <th>target</th>\n",
       "      <th>ent_18</th>\n",
       "      <th>cor_18</th>\n",
       "    </tr>\n",
       "  </thead>\n",
       "  <tbody>\n",
       "    <tr>\n",
       "      <th>2095</th>\n",
       "      <td>7</td>\n",
       "      <td>7</td>\n",
       "      <td>0.066042</td>\n",
       "      <td>1</td>\n",
       "    </tr>\n",
       "    <tr>\n",
       "      <th>3693</th>\n",
       "      <td>157</td>\n",
       "      <td>157</td>\n",
       "      <td>3.886930</td>\n",
       "      <td>1</td>\n",
       "    </tr>\n",
       "  </tbody>\n",
       "</table>\n",
       "</div>"
      ],
      "text/plain": [
       "      pred18  target    ent_18  cor_18\n",
       "2095       7       7  0.066042       1\n",
       "3693     157     157  3.886930       1"
      ]
     },
     "metadata": {},
     "output_type": "display_data"
    },
    {
     "data": {
      "text/plain": [
       "<Axes: >"
      ]
     },
     "execution_count": 132,
     "metadata": {},
     "output_type": "execute_result"
    },
    {
     "data": {
      "image/png": "[encoded data removed]",
      "text/plain": [
       "<Figure size 400x400 with 1 Axes>"
      ]
     },
     "metadata": {},
     "output_type": "display_data"
    }
   ],
   "source": [
    "# Entropy 18\n",
    "prep_roc18 = pred[[\"pred18\", \"target\"]].copy()\n",
    "prep_roc18[\"ent_18\"] = unc_pred[\"ent_18\"]\n",
    "prep_roc18[\"cor_18\"] = np.where(prep_roc18[\"pred18\"]==prep_roc18[\"target\"],1,0)\n",
    "max_ent = prep_roc18[\"ent_18\"].max()\n",
    "min_ent = prep_roc18[\"ent_18\"].min()\n",
    "print(f\"{max_ent=}||{min_ent=}\")\n",
    "display(prep_roc18.head(2))\n",
    "tpr = np.array([])\n",
    "fpr=np.array([])\n",
    "for ent_step in np.arange(min_ent,max_ent,0.1):\n",
    "    temp = predict_correctness(prep_roc18[\"ent_18\"],ent_step)\n",
    "    tpr= np.append(tpr,calc_tpr(prep_roc18[\"cor_18\"],temp))\n",
    "    fpr= np.append(fpr, calc_fpr(prep_roc18[\"cor_18\"],temp))\n",
    "plt.figure(figsize=(4,4))\n",
    "sns.pointplot(x=fpr,y=tpr)"
   ]
  },
  {
   "cell_type": "code",
   "execution_count": 133,
   "metadata": {},
   "outputs": [
    {
     "name": "stdout",
     "output_type": "stream",
     "text": [
      "max_ent=5.354127645330788||min_ent=0.0011229494420059189\n"
     ]
    },
    {
     "data": {
      "text/html": [
       "<div>\n",
       "<style scoped>\n",
       "    .dataframe tbody tr th:only-of-type {\n",
       "        vertical-align: middle;\n",
       "    }\n",
       "\n",
       "    .dataframe tbody tr th {\n",
       "        vertical-align: top;\n",
       "    }\n",
       "\n",
       "    .dataframe thead th {\n",
       "        text-align: right;\n",
       "    }\n",
       "</style>\n",
       "<table border=\"1\" class=\"dataframe\">\n",
       "  <thead>\n",
       "    <tr style=\"text-align: right;\">\n",
       "      <th></th>\n",
       "      <th>pred101</th>\n",
       "      <th>target</th>\n",
       "      <th>ent_101</th>\n",
       "      <th>cor_101</th>\n",
       "    </tr>\n",
       "  </thead>\n",
       "  <tbody>\n",
       "    <tr>\n",
       "      <th>2095</th>\n",
       "      <td>7</td>\n",
       "      <td>7</td>\n",
       "      <td>0.041488</td>\n",
       "      <td>1</td>\n",
       "    </tr>\n",
       "    <tr>\n",
       "      <th>3693</th>\n",
       "      <td>157</td>\n",
       "      <td>157</td>\n",
       "      <td>0.110614</td>\n",
       "      <td>1</td>\n",
       "    </tr>\n",
       "  </tbody>\n",
       "</table>\n",
       "</div>"
      ],
      "text/plain": [
       "      pred101  target   ent_101  cor_101\n",
       "2095        7       7  0.041488        1\n",
       "3693      157     157  0.110614        1"
      ]
     },
     "metadata": {},
     "output_type": "display_data"
    },
    {
     "data": {
      "text/plain": [
       "<Axes: >"
      ]
     },
     "execution_count": 133,
     "metadata": {},
     "output_type": "execute_result"
    },
    {
     "data": {
      "image/png": "[encoded data removed]",
      "text/plain": [
       "<Figure size 400x400 with 1 Axes>"
      ]
     },
     "metadata": {},
     "output_type": "display_data"
    }
   ],
   "source": [
    "# Entropy 101\n",
    "prep_roc101 = pred[[\"pred101\", \"target\"]].copy()\n",
    "prep_roc101[\"ent_101\"] = unc_pred[\"ent_101\"]\n",
    "prep_roc101[\"cor_101\"] = np.where(prep_roc101[\"pred101\"]==prep_roc101[\"target\"],1,0)\n",
    "max_ent = prep_roc101[\"ent_101\"].max()\n",
    "min_ent = prep_roc101[\"ent_101\"].min()\n",
    "print(f\"{max_ent=}||{min_ent=}\")\n",
    "display(prep_roc101.head(2))\n",
    "tpr = np.array([]) \n",
    "fpr=np.array([])\n",
    "for ent_step in np.arange(min_ent,max_ent,0.1):\n",
    "    temp = predict_correctness(prep_roc101[\"ent_101\"],ent_step)\n",
    "    tpr= np.append(tpr,calc_tpr(prep_roc101[\"cor_101\"],temp))\n",
    "    fpr= np.append(fpr, calc_fpr(prep_roc101[\"cor_101\"],temp))\n",
    "plt.figure(figsize=(4,4))\n",
    "sns.pointplot(x=fpr,y=tpr)"
   ]
  },
  {
   "cell_type": "code",
   "execution_count": 134,
   "metadata": {},
   "outputs": [],
   "source": [
    "# roc = pd.DataFrame({\n",
    "#     \"fpr\":fpr,\n",
    "#     \"tpr\":tpr\n",
    "# })\n",
    "# epsilon = 0.001\n",
    "# roc[\"tpr_over_fpr\"] = (1-roc[\"tpr\"])*(roc[\"fpr\"]+epsilon)\n",
    "# display(roc.head(2))\n",
    "# # best_threshold = np.arange(min_ent,max_ent,0.1)[np.argmin(roc[\"tpr_over_fpr\"])]\n",
    "# best_threshold = 4\n",
    "# print(f\"{best_threshold=}\")\n",
    "# pred[\"entropy101_maxroc_vote\"] = np.where(unc_pred[\"ent_101\"]<=best_threshold, pred[\"pred101\"],pred[\"pred18\"])\n",
    "# display(pred.head(1))\n",
    "# eval_pred(pred)\n",
    "# venn(pred[[\"target\",\"pred18\",\"pred101\",\"entropy101_maxroc_vote\"]])"
   ]
  },
  {
   "cell_type": "code",
   "execution_count": 135,
   "metadata": {},
   "outputs": [
    {
     "name": "stdout",
     "output_type": "stream",
     "text": [
      "max_ent=8.696957489755945||min_ent=0.00077365487509927\n"
     ]
    },
    {
     "data": {
      "text/html": [
       "<div>\n",
       "<style scoped>\n",
       "    .dataframe tbody tr th:only-of-type {\n",
       "        vertical-align: middle;\n",
       "    }\n",
       "\n",
       "    .dataframe tbody tr th {\n",
       "        vertical-align: top;\n",
       "    }\n",
       "\n",
       "    .dataframe thead th {\n",
       "        text-align: right;\n",
       "    }\n",
       "</style>\n",
       "<table border=\"1\" class=\"dataframe\">\n",
       "  <thead>\n",
       "    <tr style=\"text-align: right;\">\n",
       "      <th></th>\n",
       "      <th>pred101</th>\n",
       "      <th>target</th>\n",
       "      <th>kl_101_18</th>\n",
       "      <th>cor_101</th>\n",
       "    </tr>\n",
       "  </thead>\n",
       "  <tbody>\n",
       "    <tr>\n",
       "      <th>2095</th>\n",
       "      <td>7</td>\n",
       "      <td>7</td>\n",
       "      <td>0.003145</td>\n",
       "      <td>1</td>\n",
       "    </tr>\n",
       "    <tr>\n",
       "      <th>3693</th>\n",
       "      <td>157</td>\n",
       "      <td>157</td>\n",
       "      <td>0.915429</td>\n",
       "      <td>1</td>\n",
       "    </tr>\n",
       "  </tbody>\n",
       "</table>\n",
       "</div>"
      ],
      "text/plain": [
       "      pred101  target  kl_101_18  cor_101\n",
       "2095        7       7   0.003145        1\n",
       "3693      157     157   0.915429        1"
      ]
     },
     "metadata": {},
     "output_type": "display_data"
    },
    {
     "data": {
      "text/plain": [
       "<Axes: >"
      ]
     },
     "execution_count": 135,
     "metadata": {},
     "output_type": "execute_result"
    },
    {
     "data": {
      "image/png": "[encoded data removed]",
      "text/plain": [
       "<Figure size 400x400 with 1 Axes>"
      ]
     },
     "metadata": {},
     "output_type": "display_data"
    }
   ],
   "source": [
    "prep_roc101 = pred[[\"pred101\", \"target\"]].copy()\n",
    "prep_roc101[\"kl_101_18\"] = unc_pred[\"kl_101_18\"]\n",
    "prep_roc101[\"cor_101\"] = np.where(prep_roc101[\"pred101\"]==prep_roc101[\"target\"],1,0)\n",
    "max_ent = prep_roc101[\"kl_101_18\"].max()\n",
    "min_ent = prep_roc101[\"kl_101_18\"].min()\n",
    "print(f\"{max_ent=}||{min_ent=}\")\n",
    "display(prep_roc101.head(2))\n",
    "tpr = np.array([]) \n",
    "fpr=np.array([])\n",
    "for ent_step in np.arange(min_ent,max_ent,0.1):\n",
    "    temp = predict_correctness(prep_roc101[\"kl_101_18\"],ent_step)\n",
    "    tpr= np.append(tpr,calc_tpr(prep_roc101[\"cor_101\"],temp))\n",
    "    fpr= np.append(fpr, calc_fpr(prep_roc101[\"cor_101\"],temp))\n",
    "plt.figure(figsize=(4,4))\n",
    "sns.pointplot(x=fpr,y=tpr)"
   ]
  },
  {
   "cell_type": "code",
   "execution_count": 136,
   "metadata": {},
   "outputs": [
    {
     "name": "stdout",
     "output_type": "stream",
     "text": [
      "max_ent=10.509523404185035||min_ent=0.001332480281230937\n"
     ]
    },
    {
     "data": {
      "text/html": [
       "<div>\n",
       "<style scoped>\n",
       "    .dataframe tbody tr th:only-of-type {\n",
       "        vertical-align: middle;\n",
       "    }\n",
       "\n",
       "    .dataframe tbody tr th {\n",
       "        vertical-align: top;\n",
       "    }\n",
       "\n",
       "    .dataframe thead th {\n",
       "        text-align: right;\n",
       "    }\n",
       "</style>\n",
       "<table border=\"1\" class=\"dataframe\">\n",
       "  <thead>\n",
       "    <tr style=\"text-align: right;\">\n",
       "      <th></th>\n",
       "      <th>pred101</th>\n",
       "      <th>target</th>\n",
       "      <th>kl_18_101</th>\n",
       "      <th>cor_101</th>\n",
       "    </tr>\n",
       "  </thead>\n",
       "  <tbody>\n",
       "    <tr>\n",
       "      <th>2095</th>\n",
       "      <td>7</td>\n",
       "      <td>7</td>\n",
       "      <td>0.005454</td>\n",
       "      <td>1</td>\n",
       "    </tr>\n",
       "    <tr>\n",
       "      <th>3693</th>\n",
       "      <td>157</td>\n",
       "      <td>157</td>\n",
       "      <td>2.549316</td>\n",
       "      <td>1</td>\n",
       "    </tr>\n",
       "  </tbody>\n",
       "</table>\n",
       "</div>"
      ],
      "text/plain": [
       "      pred101  target  kl_18_101  cor_101\n",
       "2095        7       7   0.005454        1\n",
       "3693      157     157   2.549316        1"
      ]
     },
     "metadata": {},
     "output_type": "display_data"
    },
    {
     "data": {
      "text/plain": [
       "<Axes: >"
      ]
     },
     "execution_count": 136,
     "metadata": {},
     "output_type": "execute_result"
    },
    {
     "data": {
      "image/png": "[encoded data removed]",
      "text/plain": [
       "<Figure size 400x400 with 1 Axes>"
      ]
     },
     "metadata": {},
     "output_type": "display_data"
    }
   ],
   "source": [
    "prep_roc101 = pred[[\"pred101\", \"target\"]].copy()\n",
    "prep_roc101[\"kl_18_101\"] = unc_pred[\"kl_18_101\"]\n",
    "prep_roc101[\"cor_101\"] = np.where(prep_roc101[\"pred101\"]==prep_roc101[\"target\"],1,0)\n",
    "max_ent = prep_roc101[\"kl_18_101\"].max()\n",
    "min_ent = prep_roc101[\"kl_18_101\"].min()\n",
    "print(f\"{max_ent=}||{min_ent=}\")\n",
    "display(prep_roc101.head(2))\n",
    "tpr = np.array([]) \n",
    "fpr=np.array([])\n",
    "for ent_step in np.arange(min_ent,max_ent,0.1):\n",
    "    temp = predict_correctness(prep_roc101[\"kl_18_101\"],ent_step)\n",
    "    tpr= np.append(tpr,calc_tpr(prep_roc101[\"cor_101\"],temp))\n",
    "    fpr= np.append(fpr, calc_fpr(prep_roc101[\"cor_101\"],temp))\n",
    "plt.figure(figsize=(4,4))\n",
    "sns.pointplot(x=fpr,y=tpr)"
   ]
  },
  {
   "cell_type": "code",
   "execution_count": 137,
   "metadata": {},
   "outputs": [
    {
     "data": {
      "text/html": [
       "<div>\n",
       "<style scoped>\n",
       "    .dataframe tbody tr th:only-of-type {\n",
       "        vertical-align: middle;\n",
       "    }\n",
       "\n",
       "    .dataframe tbody tr th {\n",
       "        vertical-align: top;\n",
       "    }\n",
       "\n",
       "    .dataframe thead th {\n",
       "        text-align: right;\n",
       "    }\n",
       "</style>\n",
       "<table border=\"1\" class=\"dataframe\">\n",
       "  <thead>\n",
       "    <tr style=\"text-align: right;\">\n",
       "      <th></th>\n",
       "      <th>class_0</th>\n",
       "      <th>class_1</th>\n",
       "      <th>class_2</th>\n",
       "      <th>class_3</th>\n",
       "      <th>class_4</th>\n",
       "      <th>class_5</th>\n",
       "      <th>class_6</th>\n",
       "      <th>class_7</th>\n",
       "      <th>class_8</th>\n",
       "      <th>class_9</th>\n",
       "      <th>...</th>\n",
       "      <th>class_247</th>\n",
       "      <th>class_248</th>\n",
       "      <th>class_249</th>\n",
       "      <th>class_250</th>\n",
       "      <th>class_251</th>\n",
       "      <th>class_252</th>\n",
       "      <th>class_253</th>\n",
       "      <th>class_254</th>\n",
       "      <th>class_255</th>\n",
       "      <th>class_256</th>\n",
       "    </tr>\n",
       "  </thead>\n",
       "  <tbody>\n",
       "    <tr>\n",
       "      <th>2095</th>\n",
       "      <td>0.000005</td>\n",
       "      <td>0.000013</td>\n",
       "      <td>0.000019</td>\n",
       "      <td>0.000017</td>\n",
       "      <td>0.000021</td>\n",
       "      <td>0.000006</td>\n",
       "      <td>0.000012</td>\n",
       "      <td>0.993818</td>\n",
       "      <td>0.000088</td>\n",
       "      <td>0.000024</td>\n",
       "      <td>...</td>\n",
       "      <td>0.000002</td>\n",
       "      <td>0.000014</td>\n",
       "      <td>0.000027</td>\n",
       "      <td>0.000017</td>\n",
       "      <td>0.000021</td>\n",
       "      <td>0.000025</td>\n",
       "      <td>0.000013</td>\n",
       "      <td>0.00001</td>\n",
       "      <td>0.000031</td>\n",
       "      <td>0.00001</td>\n",
       "    </tr>\n",
       "  </tbody>\n",
       "</table>\n",
       "<p>1 rows × 257 columns</p>\n",
       "</div>"
      ],
      "text/plain": [
       "       class_0   class_1   class_2   class_3   class_4   class_5   class_6  \\\n",
       "2095  0.000005  0.000013  0.000019  0.000017  0.000021  0.000006  0.000012   \n",
       "\n",
       "       class_7   class_8   class_9  ...  class_247  class_248  class_249  \\\n",
       "2095  0.993818  0.000088  0.000024  ...   0.000002   0.000014   0.000027   \n",
       "\n",
       "      class_250  class_251  class_252  class_253  class_254  class_255  \\\n",
       "2095   0.000017   0.000021   0.000025   0.000013    0.00001   0.000031   \n",
       "\n",
       "      class_256  \n",
       "2095    0.00001  \n",
       "\n",
       "[1 rows x 257 columns]"
      ]
     },
     "metadata": {},
     "output_type": "display_data"
    },
    {
     "data": {
      "text/html": [
       "<div>\n",
       "<style scoped>\n",
       "    .dataframe tbody tr th:only-of-type {\n",
       "        vertical-align: middle;\n",
       "    }\n",
       "\n",
       "    .dataframe tbody tr th {\n",
       "        vertical-align: top;\n",
       "    }\n",
       "\n",
       "    .dataframe thead th {\n",
       "        text-align: right;\n",
       "    }\n",
       "</style>\n",
       "<table border=\"1\" class=\"dataframe\">\n",
       "  <thead>\n",
       "    <tr style=\"text-align: right;\">\n",
       "      <th></th>\n",
       "      <th>class_0</th>\n",
       "      <th>class_1</th>\n",
       "      <th>class_2</th>\n",
       "      <th>class_3</th>\n",
       "      <th>class_4</th>\n",
       "      <th>class_5</th>\n",
       "      <th>class_6</th>\n",
       "      <th>class_7</th>\n",
       "      <th>class_8</th>\n",
       "      <th>class_9</th>\n",
       "      <th>...</th>\n",
       "      <th>class_247</th>\n",
       "      <th>class_248</th>\n",
       "      <th>class_249</th>\n",
       "      <th>class_250</th>\n",
       "      <th>class_251</th>\n",
       "      <th>class_252</th>\n",
       "      <th>class_253</th>\n",
       "      <th>class_254</th>\n",
       "      <th>class_255</th>\n",
       "      <th>class_256</th>\n",
       "    </tr>\n",
       "  </thead>\n",
       "  <tbody>\n",
       "    <tr>\n",
       "      <th>2095</th>\n",
       "      <td>0.000209</td>\n",
       "      <td>0.000354</td>\n",
       "      <td>0.000134</td>\n",
       "      <td>0.000203</td>\n",
       "      <td>0.000268</td>\n",
       "      <td>0.000119</td>\n",
       "      <td>0.000159</td>\n",
       "      <td>0.932014</td>\n",
       "      <td>0.000284</td>\n",
       "      <td>0.000182</td>\n",
       "      <td>...</td>\n",
       "      <td>0.00022</td>\n",
       "      <td>0.000483</td>\n",
       "      <td>0.000343</td>\n",
       "      <td>0.000384</td>\n",
       "      <td>0.000209</td>\n",
       "      <td>0.000334</td>\n",
       "      <td>0.000308</td>\n",
       "      <td>0.000252</td>\n",
       "      <td>0.000172</td>\n",
       "      <td>0.000186</td>\n",
       "    </tr>\n",
       "  </tbody>\n",
       "</table>\n",
       "<p>1 rows × 257 columns</p>\n",
       "</div>"
      ],
      "text/plain": [
       "       class_0   class_1   class_2   class_3   class_4   class_5   class_6  \\\n",
       "2095  0.000209  0.000354  0.000134  0.000203  0.000268  0.000119  0.000159   \n",
       "\n",
       "       class_7   class_8   class_9  ...  class_247  class_248  class_249  \\\n",
       "2095  0.932014  0.000284  0.000182  ...    0.00022   0.000483   0.000343   \n",
       "\n",
       "      class_250  class_251  class_252  class_253  class_254  class_255  \\\n",
       "2095   0.000384   0.000209   0.000334   0.000308   0.000252   0.000172   \n",
       "\n",
       "      class_256  \n",
       "2095   0.000186  \n",
       "\n",
       "[1 rows x 257 columns]"
      ]
     },
     "metadata": {},
     "output_type": "display_data"
    },
    {
     "data": {
      "text/html": [
       "<div>\n",
       "<style scoped>\n",
       "    .dataframe tbody tr th:only-of-type {\n",
       "        vertical-align: middle;\n",
       "    }\n",
       "\n",
       "    .dataframe tbody tr th {\n",
       "        vertical-align: top;\n",
       "    }\n",
       "\n",
       "    .dataframe thead th {\n",
       "        text-align: right;\n",
       "    }\n",
       "</style>\n",
       "<table border=\"1\" class=\"dataframe\">\n",
       "  <thead>\n",
       "    <tr style=\"text-align: right;\">\n",
       "      <th></th>\n",
       "      <th>class_0</th>\n",
       "      <th>class_1</th>\n",
       "      <th>class_2</th>\n",
       "      <th>class_3</th>\n",
       "      <th>class_4</th>\n",
       "      <th>class_5</th>\n",
       "      <th>class_6</th>\n",
       "      <th>class_7</th>\n",
       "      <th>class_8</th>\n",
       "      <th>class_9</th>\n",
       "      <th>...</th>\n",
       "      <th>class_247</th>\n",
       "      <th>class_248</th>\n",
       "      <th>class_249</th>\n",
       "      <th>class_250</th>\n",
       "      <th>class_251</th>\n",
       "      <th>class_252</th>\n",
       "      <th>class_253</th>\n",
       "      <th>class_254</th>\n",
       "      <th>class_255</th>\n",
       "      <th>class_256</th>\n",
       "    </tr>\n",
       "  </thead>\n",
       "  <tbody>\n",
       "    <tr>\n",
       "      <th>2095</th>\n",
       "      <td>0.000012</td>\n",
       "      <td>0.000013</td>\n",
       "      <td>0.000018</td>\n",
       "      <td>0.000009</td>\n",
       "      <td>0.000027</td>\n",
       "      <td>0.000012</td>\n",
       "      <td>0.000012</td>\n",
       "      <td>0.996404</td>\n",
       "      <td>0.000008</td>\n",
       "      <td>0.000009</td>\n",
       "      <td>...</td>\n",
       "      <td>0.000013</td>\n",
       "      <td>0.000005</td>\n",
       "      <td>0.000004</td>\n",
       "      <td>0.00001</td>\n",
       "      <td>0.000012</td>\n",
       "      <td>0.000018</td>\n",
       "      <td>0.000009</td>\n",
       "      <td>0.000017</td>\n",
       "      <td>0.00003</td>\n",
       "      <td>0.000013</td>\n",
       "    </tr>\n",
       "  </tbody>\n",
       "</table>\n",
       "<p>1 rows × 257 columns</p>\n",
       "</div>"
      ],
      "text/plain": [
       "       class_0   class_1   class_2   class_3   class_4   class_5   class_6  \\\n",
       "2095  0.000012  0.000013  0.000018  0.000009  0.000027  0.000012  0.000012   \n",
       "\n",
       "       class_7   class_8   class_9  ...  class_247  class_248  class_249  \\\n",
       "2095  0.996404  0.000008  0.000009  ...   0.000013   0.000005   0.000004   \n",
       "\n",
       "      class_250  class_251  class_252  class_253  class_254  class_255  \\\n",
       "2095    0.00001   0.000012   0.000018   0.000009   0.000017    0.00003   \n",
       "\n",
       "      class_256  \n",
       "2095   0.000013  \n",
       "\n",
       "[1 rows x 257 columns]"
      ]
     },
     "metadata": {},
     "output_type": "display_data"
    },
    {
     "data": {
      "text/html": [
       "<div>\n",
       "<style scoped>\n",
       "    .dataframe tbody tr th:only-of-type {\n",
       "        vertical-align: middle;\n",
       "    }\n",
       "\n",
       "    .dataframe tbody tr th {\n",
       "        vertical-align: top;\n",
       "    }\n",
       "\n",
       "    .dataframe thead th {\n",
       "        text-align: right;\n",
       "    }\n",
       "</style>\n",
       "<table border=\"1\" class=\"dataframe\">\n",
       "  <thead>\n",
       "    <tr style=\"text-align: right;\">\n",
       "      <th></th>\n",
       "      <th>pred18</th>\n",
       "      <th>pred50</th>\n",
       "      <th>pred101</th>\n",
       "      <th>target</th>\n",
       "      <th>soft_vote</th>\n",
       "      <th>weighted_vote</th>\n",
       "      <th>min_entropy_pred</th>\n",
       "      <th>unc_weighted_vote</th>\n",
       "      <th>kl_weighted_vote</th>\n",
       "      <th>ce_weighted_vote</th>\n",
       "      <th>kl_sqr_weighted_vote</th>\n",
       "      <th>kl_acc_weighted_vote</th>\n",
       "      <th>ent_kl_weighted_vote</th>\n",
       "      <th>kl_ent_weighted_vote</th>\n",
       "    </tr>\n",
       "  </thead>\n",
       "  <tbody>\n",
       "    <tr>\n",
       "      <th>2095</th>\n",
       "      <td>7</td>\n",
       "      <td>7</td>\n",
       "      <td>7</td>\n",
       "      <td>7</td>\n",
       "      <td>7</td>\n",
       "      <td>7</td>\n",
       "      <td>7</td>\n",
       "      <td>7</td>\n",
       "      <td>7</td>\n",
       "      <td>7</td>\n",
       "      <td>7</td>\n",
       "      <td>7</td>\n",
       "      <td>7</td>\n",
       "      <td>7</td>\n",
       "    </tr>\n",
       "  </tbody>\n",
       "</table>\n",
       "</div>"
      ],
      "text/plain": [
       "      pred18  pred50  pred101  target  soft_vote  weighted_vote  \\\n",
       "2095       7       7        7       7          7              7   \n",
       "\n",
       "      min_entropy_pred  unc_weighted_vote  kl_weighted_vote  ce_weighted_vote  \\\n",
       "2095                 7                  7                 7                 7   \n",
       "\n",
       "      kl_sqr_weighted_vote  kl_acc_weighted_vote  ent_kl_weighted_vote  \\\n",
       "2095                     7                     7                     7   \n",
       "\n",
       "      kl_ent_weighted_vote  \n",
       "2095                     7  "
      ]
     },
     "metadata": {},
     "output_type": "display_data"
    },
    {
     "data": {
      "text/html": [
       "<div>\n",
       "<style scoped>\n",
       "    .dataframe tbody tr th:only-of-type {\n",
       "        vertical-align: middle;\n",
       "    }\n",
       "\n",
       "    .dataframe tbody tr th {\n",
       "        vertical-align: top;\n",
       "    }\n",
       "\n",
       "    .dataframe thead th {\n",
       "        text-align: right;\n",
       "    }\n",
       "</style>\n",
       "<table border=\"1\" class=\"dataframe\">\n",
       "  <thead>\n",
       "    <tr style=\"text-align: right;\">\n",
       "      <th></th>\n",
       "      <th>kl_18_101</th>\n",
       "      <th>kl_101_18</th>\n",
       "      <th>kl_18_50</th>\n",
       "      <th>ent_18</th>\n",
       "      <th>ent_50</th>\n",
       "      <th>ent_101</th>\n",
       "      <th>ce_18_101</th>\n",
       "      <th>ce_101_18</th>\n",
       "    </tr>\n",
       "  </thead>\n",
       "  <tbody>\n",
       "    <tr>\n",
       "      <th>2095</th>\n",
       "      <td>0.005454</td>\n",
       "      <td>0.003145</td>\n",
       "      <td>0.053256</td>\n",
       "      <td>0.066042</td>\n",
       "      <td>0.612255</td>\n",
       "      <td>0.041488</td>\n",
       "      <td>0.071496</td>\n",
       "      <td>0.044633</td>\n",
       "    </tr>\n",
       "  </tbody>\n",
       "</table>\n",
       "</div>"
      ],
      "text/plain": [
       "      kl_18_101  kl_101_18  kl_18_50    ent_18    ent_50   ent_101  ce_18_101  \\\n",
       "2095   0.005454   0.003145  0.053256  0.066042  0.612255  0.041488   0.071496   \n",
       "\n",
       "      ce_101_18  \n",
       "2095   0.044633  "
      ]
     },
     "metadata": {},
     "output_type": "display_data"
    },
    {
     "data": {
      "text/plain": [
       "(3061, 8)"
      ]
     },
     "execution_count": 137,
     "metadata": {},
     "output_type": "execute_result"
    }
   ],
   "source": [
    "display(df18.head(1))\n",
    "display(df50.head(1))\n",
    "display(df101.head(1))\n",
    "display(pred.head(1))\n",
    "display(unc_pred.head(1))\n",
    "unc_pred.shape"
   ]
  },
  {
   "cell_type": "code",
   "execution_count": 138,
   "metadata": {},
   "outputs": [],
   "source": [
    "df18.to_csv(\"./data/df18.csv\",header=True,index=True)\n",
    "df50.to_csv(\"./data/df50.csv\",header=True,index=True)\n",
    "df101.to_csv(\"./data/df101.csv\",header=True,index=True)\n",
    "pred.to_csv(\"./data/pred.csv\",header=True,index=True)\n",
    "unc_pred.to_csv(\"./data/unc_pred.csv\",header=True,index=True)"
   ]
  },
  {
   "cell_type": "code",
   "execution_count": null,
   "metadata": {},
   "outputs": [],
   "source": []
  }
 ],
 "metadata": {
  "kernelspec": {
   "display_name": "cpsc340",
   "language": "python",
   "name": "python3"
  },
  "language_info": {
   "codemirror_mode": {
    "name": "ipython",
    "version": 3
   },
   "file_extension": ".py",
   "mimetype": "text/x-python",
   "name": "python",
   "nbconvert_exporter": "python",
   "pygments_lexer": "ipython3",
   "version": "3.11.5"
  }
 },
 "nbformat": 4,
 "nbformat_minor": 2
}
