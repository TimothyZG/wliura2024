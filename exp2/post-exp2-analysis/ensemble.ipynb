{
 "cells": [
  {
   "cell_type": "markdown",
   "metadata": {},
   "source": [
    "# Exploring ensembling different sized models on uncertainty measures "
   ]
  },
  {
   "cell_type": "code",
   "execution_count": 2,
   "metadata": {},
   "outputs": [],
   "source": [
    "import pandas as pd\n",
    "import numpy as np\n",
    "from scipy.special import rel_entr\n",
    "from scipy.stats import entropy"
   ]
  },
  {
   "cell_type": "code",
   "execution_count": 8,
   "metadata": {},
   "outputs": [
    {
     "name": "stdout",
     "output_type": "stream",
     "text": [
      "df18.shape=(6122, 257)\n"
     ]
    },
    {
     "data": {
      "text/html": [
       "<div>\n",
       "<style scoped>\n",
       "    .dataframe tbody tr th:only-of-type {\n",
       "        vertical-align: middle;\n",
       "    }\n",
       "\n",
       "    .dataframe tbody tr th {\n",
       "        vertical-align: top;\n",
       "    }\n",
       "\n",
       "    .dataframe thead th {\n",
       "        text-align: right;\n",
       "    }\n",
       "</style>\n",
       "<table border=\"1\" class=\"dataframe\">\n",
       "  <thead>\n",
       "    <tr style=\"text-align: right;\">\n",
       "      <th></th>\n",
       "      <th>class_0</th>\n",
       "      <th>class_1</th>\n",
       "      <th>class_2</th>\n",
       "      <th>class_3</th>\n",
       "      <th>class_4</th>\n",
       "      <th>class_5</th>\n",
       "      <th>class_6</th>\n",
       "      <th>class_7</th>\n",
       "      <th>class_8</th>\n",
       "      <th>class_9</th>\n",
       "      <th>...</th>\n",
       "      <th>class_247</th>\n",
       "      <th>class_248</th>\n",
       "      <th>class_249</th>\n",
       "      <th>class_250</th>\n",
       "      <th>class_251</th>\n",
       "      <th>class_252</th>\n",
       "      <th>class_253</th>\n",
       "      <th>class_254</th>\n",
       "      <th>class_255</th>\n",
       "      <th>class_256</th>\n",
       "    </tr>\n",
       "  </thead>\n",
       "  <tbody>\n",
       "    <tr>\n",
       "      <th>0</th>\n",
       "      <td>0.002548</td>\n",
       "      <td>0.003643</td>\n",
       "      <td>0.002167</td>\n",
       "      <td>0.006165</td>\n",
       "      <td>0.00484</td>\n",
       "      <td>0.00836</td>\n",
       "      <td>0.002376</td>\n",
       "      <td>0.010965</td>\n",
       "      <td>0.002399</td>\n",
       "      <td>0.008175</td>\n",
       "      <td>...</td>\n",
       "      <td>0.001317</td>\n",
       "      <td>0.002514</td>\n",
       "      <td>0.006182</td>\n",
       "      <td>0.004792</td>\n",
       "      <td>0.004116</td>\n",
       "      <td>0.004633</td>\n",
       "      <td>0.002666</td>\n",
       "      <td>0.001376</td>\n",
       "      <td>0.006288</td>\n",
       "      <td>0.002184</td>\n",
       "    </tr>\n",
       "  </tbody>\n",
       "</table>\n",
       "<p>1 rows × 257 columns</p>\n",
       "</div>"
      ],
      "text/plain": [
       "    class_0   class_1   class_2   class_3  class_4  class_5   class_6  \\\n",
       "0  0.002548  0.003643  0.002167  0.006165  0.00484  0.00836  0.002376   \n",
       "\n",
       "    class_7   class_8   class_9  ...  class_247  class_248  class_249  \\\n",
       "0  0.010965  0.002399  0.008175  ...   0.001317   0.002514   0.006182   \n",
       "\n",
       "   class_250  class_251  class_252  class_253  class_254  class_255  class_256  \n",
       "0   0.004792   0.004116   0.004633   0.002666   0.001376   0.006288   0.002184  \n",
       "\n",
       "[1 rows x 257 columns]"
      ]
     },
     "metadata": {},
     "output_type": "display_data"
    },
    {
     "name": "stdout",
     "output_type": "stream",
     "text": [
      "df101.shape=(6122, 257)\n"
     ]
    },
    {
     "data": {
      "text/html": [
       "<div>\n",
       "<style scoped>\n",
       "    .dataframe tbody tr th:only-of-type {\n",
       "        vertical-align: middle;\n",
       "    }\n",
       "\n",
       "    .dataframe tbody tr th {\n",
       "        vertical-align: top;\n",
       "    }\n",
       "\n",
       "    .dataframe thead th {\n",
       "        text-align: right;\n",
       "    }\n",
       "</style>\n",
       "<table border=\"1\" class=\"dataframe\">\n",
       "  <thead>\n",
       "    <tr style=\"text-align: right;\">\n",
       "      <th></th>\n",
       "      <th>class_0</th>\n",
       "      <th>class_1</th>\n",
       "      <th>class_2</th>\n",
       "      <th>class_3</th>\n",
       "      <th>class_4</th>\n",
       "      <th>class_5</th>\n",
       "      <th>class_6</th>\n",
       "      <th>class_7</th>\n",
       "      <th>class_8</th>\n",
       "      <th>class_9</th>\n",
       "      <th>...</th>\n",
       "      <th>class_247</th>\n",
       "      <th>class_248</th>\n",
       "      <th>class_249</th>\n",
       "      <th>class_250</th>\n",
       "      <th>class_251</th>\n",
       "      <th>class_252</th>\n",
       "      <th>class_253</th>\n",
       "      <th>class_254</th>\n",
       "      <th>class_255</th>\n",
       "      <th>class_256</th>\n",
       "    </tr>\n",
       "  </thead>\n",
       "  <tbody>\n",
       "    <tr>\n",
       "      <th>0</th>\n",
       "      <td>0.000012</td>\n",
       "      <td>0.000211</td>\n",
       "      <td>0.00002</td>\n",
       "      <td>0.000049</td>\n",
       "      <td>0.00007</td>\n",
       "      <td>0.000075</td>\n",
       "      <td>0.000084</td>\n",
       "      <td>0.000053</td>\n",
       "      <td>0.00004</td>\n",
       "      <td>0.000068</td>\n",
       "      <td>...</td>\n",
       "      <td>0.000061</td>\n",
       "      <td>0.000053</td>\n",
       "      <td>0.000035</td>\n",
       "      <td>0.000057</td>\n",
       "      <td>0.000019</td>\n",
       "      <td>0.000117</td>\n",
       "      <td>0.000091</td>\n",
       "      <td>0.000042</td>\n",
       "      <td>0.000036</td>\n",
       "      <td>0.000246</td>\n",
       "    </tr>\n",
       "  </tbody>\n",
       "</table>\n",
       "<p>1 rows × 257 columns</p>\n",
       "</div>"
      ],
      "text/plain": [
       "    class_0   class_1  class_2   class_3  class_4   class_5   class_6  \\\n",
       "0  0.000012  0.000211  0.00002  0.000049  0.00007  0.000075  0.000084   \n",
       "\n",
       "    class_7  class_8   class_9  ...  class_247  class_248  class_249  \\\n",
       "0  0.000053  0.00004  0.000068  ...   0.000061   0.000053   0.000035   \n",
       "\n",
       "   class_250  class_251  class_252  class_253  class_254  class_255  class_256  \n",
       "0   0.000057   0.000019   0.000117   0.000091   0.000042   0.000036   0.000246  \n",
       "\n",
       "[1 rows x 257 columns]"
      ]
     },
     "metadata": {},
     "output_type": "display_data"
    },
    {
     "name": "stdout",
     "output_type": "stream",
     "text": [
      "pred.shape=(6122, 3)\n"
     ]
    },
    {
     "data": {
      "text/html": [
       "<div>\n",
       "<style scoped>\n",
       "    .dataframe tbody tr th:only-of-type {\n",
       "        vertical-align: middle;\n",
       "    }\n",
       "\n",
       "    .dataframe tbody tr th {\n",
       "        vertical-align: top;\n",
       "    }\n",
       "\n",
       "    .dataframe thead th {\n",
       "        text-align: right;\n",
       "    }\n",
       "</style>\n",
       "<table border=\"1\" class=\"dataframe\">\n",
       "  <thead>\n",
       "    <tr style=\"text-align: right;\">\n",
       "      <th></th>\n",
       "      <th>pred18</th>\n",
       "      <th>pred101</th>\n",
       "      <th>target</th>\n",
       "    </tr>\n",
       "  </thead>\n",
       "  <tbody>\n",
       "    <tr>\n",
       "      <th>0</th>\n",
       "      <td>class_24</td>\n",
       "      <td>class_24</td>\n",
       "      <td>24</td>\n",
       "    </tr>\n",
       "  </tbody>\n",
       "</table>\n",
       "</div>"
      ],
      "text/plain": [
       "     pred18   pred101  target\n",
       "0  class_24  class_24      24"
      ]
     },
     "metadata": {},
     "output_type": "display_data"
    }
   ],
   "source": [
    "# Load data:\n",
    "df18 = pd.read_csv(\"../exp2-inf/predictions_res18_2.csv\")\n",
    "df101 = pd.read_csv(\"../exp2-inf/predictions_res101_2.csv\")\n",
    "label = pd.read_csv(\"../exp2-inf/labels.csv\")\n",
    "num_class = 257\n",
    "pred = pd.DataFrame({\n",
    "    \"pred18\": df18.idxmax(axis=1),\n",
    "    \"pred101\": df101.idxmax(axis=1),\n",
    "    \"target\": label['target']\n",
    "})\n",
    "print(f\"{df18.shape=}\")\n",
    "display(df18.head(1))\n",
    "print(f\"{df101.shape=}\")\n",
    "display(df101.head(1))\n",
    "print(f\"{pred.shape=}\")\n",
    "display(pred.head(1))"
   ]
  },
  {
   "cell_type": "code",
   "execution_count": null,
   "metadata": {},
   "outputs": [],
   "source": []
  }
 ],
 "metadata": {
  "kernelspec": {
   "display_name": "cpsc340",
   "language": "python",
   "name": "python3"
  },
  "language_info": {
   "codemirror_mode": {
    "name": "ipython",
    "version": 3
   },
   "file_extension": ".py",
   "mimetype": "text/x-python",
   "name": "python",
   "nbconvert_exporter": "python",
   "pygments_lexer": "ipython3",
   "version": "3.11.5"
  }
 },
 "nbformat": 4,
 "nbformat_minor": 2
}
