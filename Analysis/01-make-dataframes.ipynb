{
 "cells": [
  {
   "cell_type": "code",
   "execution_count": 13,
   "metadata": {},
   "outputs": [],
   "source": [
    "import pandas as pd\n",
    "import numpy as np\n",
    "from scipy.special import rel_entr, entr"
   ]
  },
  {
   "cell_type": "code",
   "execution_count": 14,
   "metadata": {},
   "outputs": [],
   "source": [
    "# List of available dataset\n",
    "datasets = [\"DTD\",\"EuroSAT\",\"GTSRB\",\"MNIST\",\"SVHN\",\"Caltech256\"]"
   ]
  },
  {
   "cell_type": "code",
   "execution_count": 15,
   "metadata": {},
   "outputs": [],
   "source": [
    "def calc_kl(P, Q):\n",
    "    return np.sum(rel_entr(P, Q), axis=1)\n",
    "\n",
    "# Calculate Entropy\n",
    "def calc_entropy(P):\n",
    "    return np.sum(entr(P), axis=1)\n",
    "\n",
    "# Calculate Cross-Entropy\n",
    "def calc_cross_ent(P, Q):\n",
    "    # return np.sum(entr(P,Q), axis=1)\n",
    "    return -np.sum(P * np.log(Q), axis=1)\n"
   ]
  },
  {
   "cell_type": "code",
   "execution_count": 16,
   "metadata": {},
   "outputs": [],
   "source": [
    "for ds in datasets:\n",
    "    df18 = pd.read_csv(f\"../Pred/{ds}_Resnet18.csv\")\n",
    "    df50 = pd.read_csv(f\"../Pred/{ds}_Resnet50.csv\")\n",
    "    df101 = pd.read_csv(f\"../Pred/{ds}_Resnet101.csv\")\n",
    "    label = pd.read_csv(f\"../Pred/target_{ds}.csv\")\n",
    "    prediction = pd.DataFrame({\n",
    "    \"pred18\": df18.idxmax(axis=1),\n",
    "    \"pred50\": df50.idxmax(axis=1),\n",
    "    \"pred101\": df101.idxmax(axis=1),\n",
    "    \"target\": label['target']\n",
    "    })\n",
    "    prediction[\"pred18\"] = prediction[\"pred18\"].str.extract('(\\d+)').astype(int)\n",
    "    prediction[\"pred50\"] = prediction[\"pred50\"].str.extract('(\\d+)').astype(int)\n",
    "    prediction[\"pred101\"] = prediction[\"pred101\"].str.extract('(\\d+)').astype(int)\n",
    "    prediction.to_csv(f\"prediction_{ds}.csv\")\n",
    "    unc_pred = pd.DataFrame()\n",
    "    unc_pred[\"kl_18_101\"] = calc_kl(df18,df101)\n",
    "    unc_pred[\"kl_101_18\"] = calc_kl(df101,df18)\n",
    "    unc_pred[\"ent_18\"] = calc_entropy(df18)\n",
    "    unc_pred[\"ent_101\"] = calc_entropy(df101)\n",
    "    unc_pred[\"ce_18_101\"] = calc_cross_ent(df18,df101)\n",
    "    unc_pred[\"ce_101_18\"] = calc_cross_ent(df101,df18)\n",
    "    unc_pred.to_csv(f\"uncertainty_{ds}.csv\")"
   ]
  },
  {
   "cell_type": "code",
   "execution_count": null,
   "metadata": {},
   "outputs": [],
   "source": []
  }
 ],
 "metadata": {
  "kernelspec": {
   "display_name": "cpsc340",
   "language": "python",
   "name": "python3"
  },
  "language_info": {
   "codemirror_mode": {
    "name": "ipython",
    "version": 3
   },
   "file_extension": ".py",
   "mimetype": "text/x-python",
   "name": "python",
   "nbconvert_exporter": "python",
   "pygments_lexer": "ipython3",
   "version": "3.11.5"
  }
 },
 "nbformat": 4,
 "nbformat_minor": 2
}
