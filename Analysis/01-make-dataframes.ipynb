{
 "cells": [
  {
   "cell_type": "code",
   "execution_count": 6,
   "metadata": {},
   "outputs": [],
   "source": [
    "import pandas as pd\n",
    "import numpy as np\n",
    "from scipy.special import rel_entr, entr"
   ]
  },
  {
   "cell_type": "code",
   "execution_count": 7,
   "metadata": {},
   "outputs": [],
   "source": [
    "# List of available dataset\n",
    "datasets = [\"DTD\",\"EuroSAT\",\"GTSRB\"]"
   ]
  },
  {
   "cell_type": "code",
   "execution_count": 8,
   "metadata": {},
   "outputs": [],
   "source": [
    "def calc_kl(P, Q):\n",
    "    return np.sum(rel_entr(P, Q), axis=1)\n",
    "\n",
    "# Calculate Entropy\n",
    "def calc_entropy(P):\n",
    "    return np.sum(entr(P), axis=1)\n",
    "\n",
    "# Calculate Cross-Entropy\n",
    "def calc_cross_ent(P, Q):\n",
    "    return entr(Q,P)"
   ]
  },
  {
   "cell_type": "code",
   "execution_count": 9,
   "metadata": {},
   "outputs": [
    {
     "ename": "TypeError",
     "evalue": "entr() got an unexpected keyword argument 'axis'",
     "output_type": "error",
     "traceback": [
      "\u001b[0;31m---------------------------------------------------------------------------\u001b[0m",
      "\u001b[0;31mTypeError\u001b[0m                                 Traceback (most recent call last)",
      "Cell \u001b[0;32mIn[9], line 21\u001b[0m\n\u001b[1;32m     19\u001b[0m unc_pred[\u001b[38;5;124m\"\u001b[39m\u001b[38;5;124ment_18\u001b[39m\u001b[38;5;124m\"\u001b[39m] \u001b[38;5;241m=\u001b[39m calc_entropy(df18)\n\u001b[1;32m     20\u001b[0m unc_pred[\u001b[38;5;124m\"\u001b[39m\u001b[38;5;124ment_101\u001b[39m\u001b[38;5;124m\"\u001b[39m] \u001b[38;5;241m=\u001b[39m calc_entropy(df101)\n\u001b[0;32m---> 21\u001b[0m unc_pred[\u001b[38;5;124m\"\u001b[39m\u001b[38;5;124mce_18_101\u001b[39m\u001b[38;5;124m\"\u001b[39m] \u001b[38;5;241m=\u001b[39m \u001b[43mcalc_cross_ent\u001b[49m\u001b[43m(\u001b[49m\u001b[43mdf18\u001b[49m\u001b[43m,\u001b[49m\u001b[43mdf101\u001b[49m\u001b[43m)\u001b[49m\n\u001b[1;32m     22\u001b[0m unc_pred[\u001b[38;5;124m\"\u001b[39m\u001b[38;5;124mce_101_18\u001b[39m\u001b[38;5;124m\"\u001b[39m] \u001b[38;5;241m=\u001b[39m calc_cross_ent(df101,df18)\n\u001b[1;32m     23\u001b[0m unc_pred\u001b[38;5;241m.\u001b[39mto_csv(\u001b[38;5;124mf\u001b[39m\u001b[38;5;124m\"\u001b[39m\u001b[38;5;124muncertainty_\u001b[39m\u001b[38;5;132;01m{\u001b[39;00mds\u001b[38;5;132;01m}\u001b[39;00m\u001b[38;5;124m.csv\u001b[39m\u001b[38;5;124m\"\u001b[39m)\n",
      "Cell \u001b[0;32mIn[8], line 10\u001b[0m, in \u001b[0;36mcalc_cross_ent\u001b[0;34m(P, Q)\u001b[0m\n\u001b[1;32m      9\u001b[0m \u001b[38;5;28;01mdef\u001b[39;00m \u001b[38;5;21mcalc_cross_ent\u001b[39m(P, Q):\n\u001b[0;32m---> 10\u001b[0m     \u001b[38;5;28;01mreturn\u001b[39;00m \u001b[43mentr\u001b[49m\u001b[43m(\u001b[49m\u001b[43mQ\u001b[49m\u001b[43m,\u001b[49m\u001b[43mP\u001b[49m\u001b[43m,\u001b[49m\u001b[43maxis\u001b[49m\u001b[38;5;241;43m=\u001b[39;49m\u001b[38;5;241;43m1\u001b[39;49m\u001b[43m)\u001b[49m\n",
      "\u001b[0;31mTypeError\u001b[0m: entr() got an unexpected keyword argument 'axis'"
     ]
    }
   ],
   "source": [
    "for ds in datasets:\n",
    "    df18 = pd.read_csv(f\"../Pred/{ds}_Resnet18.csv\")\n",
    "    df50 = pd.read_csv(f\"../Pred/{ds}_Resnet50.csv\")\n",
    "    df101 = pd.read_csv(f\"../Pred/{ds}_Resnet101.csv\")\n",
    "    label = pd.read_csv(f\"../Pred/target_{ds}.csv\")\n",
    "    prediction = pd.DataFrame({\n",
    "    \"pred18\": df18.idxmax(axis=1),\n",
    "    \"pred50\": df50.idxmax(axis=1),\n",
    "    \"pred101\": df101.idxmax(axis=1),\n",
    "    \"target\": label['target']\n",
    "    })\n",
    "    prediction[\"pred18\"] = prediction[\"pred18\"].str.extract('(\\d+)').astype(int)\n",
    "    prediction[\"pred50\"] = prediction[\"pred50\"].str.extract('(\\d+)').astype(int)\n",
    "    prediction[\"pred101\"] = prediction[\"pred101\"].str.extract('(\\d+)').astype(int)\n",
    "    prediction.to_csv(f\"prediction_{ds}.csv\")\n",
    "    unc_pred = pd.DataFrame()\n",
    "    unc_pred[\"kl_18_101\"] = calc_kl(df18,df101)\n",
    "    unc_pred[\"kl_101_18\"] = calc_kl(df101,df18)\n",
    "    unc_pred[\"ent_18\"] = calc_entropy(df18)\n",
    "    unc_pred[\"ent_101\"] = calc_entropy(df101)\n",
    "    unc_pred[\"ce_18_101\"] = calc_cross_ent(df18,df101)\n",
    "    unc_pred[\"ce_101_18\"] = calc_cross_ent(df101,df18)\n",
    "    unc_pred.to_csv(f\"uncertainty_{ds}.csv\")"
   ]
  }
 ],
 "metadata": {
  "kernelspec": {
   "display_name": "cpsc340",
   "language": "python",
   "name": "python3"
  },
  "language_info": {
   "codemirror_mode": {
    "name": "ipython",
    "version": 3
   },
   "file_extension": ".py",
   "mimetype": "text/x-python",
   "name": "python",
   "nbconvert_exporter": "python",
   "pygments_lexer": "ipython3",
   "version": "3.11.5"
  }
 },
 "nbformat": 4,
 "nbformat_minor": 2
}
